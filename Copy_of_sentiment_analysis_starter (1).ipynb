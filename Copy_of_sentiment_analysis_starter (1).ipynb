{
  "cells": [
    {
      "cell_type": "markdown",
      "metadata": {
        "id": "ZoyQ2s2hSRnT"
      },
      "source": [
        "# Sentiment-140 Classification\n",
        "\n",
        "In this notebook, we will explore the application of transformers for sentiment analysis of different tweets. Our goal is to classify tweets to have either positive or negative sentiment. We will first consider the performance of a pre-trained BERT model, finetuned on the Sentiment-140 dataset, and later we'll develop and train our own transformer architecture from scratch. Let's dive right in!\n",
        "\n",
        "First of all, we need a couple of useful libraries that you're hopefully familiar with."
      ]
    },
    {
      "cell_type": "code",
      "execution_count": null,
      "metadata": {
        "id": "2Jg21hVASRnW"
      },
      "outputs": [],
      "source": [
        "import torch\n",
        "import torch.nn as nn\n",
        "import torch.nn.functional as F\n",
        "from torch.utils.data import Dataset, DataLoader, SubsetRandomSampler\n",
        "from tqdm import tqdm\n",
        "import matplotlib.pyplot as plt\n",
        "import numpy as np\n",
        "from transformers import BertTokenizer, BertForSequenceClassification\n",
        "\n",
        "# this automatically reloads the libraries so you can update them dynamically\n",
        "%load_ext autoreload\n",
        "%autoreload 2"
      ]
    },
    {
      "cell_type": "code",
      "source": [
        "from google.colab import drive\n",
        "drive.mount('/content/drive/')"
      ],
      "metadata": {
        "colab": {
          "base_uri": "https://localhost:8080/"
        },
        "id": "ToXe7_-7nC_A",
        "outputId": "9c049ecc-ffa3-4184-c4b6-cd6b728d34cb"
      },
      "execution_count": null,
      "outputs": [
        {
          "output_type": "stream",
          "name": "stdout",
          "text": [
            "Mounted at /content/drive/\n"
          ]
        }
      ]
    },
    {
      "cell_type": "markdown",
      "metadata": {
        "id": "TvjjPglISRnY"
      },
      "source": [
        "## Loading our data\n",
        "\n",
        "Let's start by preparing our dataset. We have implemented the dataset class for you in `data_utils/SentimentDataset.py`, feel free to check the implementation. However, before we can use the `SentimentDataset` class to create our train data and test data objects, we need to pre-process the raw data.\n",
        "\n",
        "You can download raw data from [here](https://www.kaggle.com/datasets/kazanova/sentiment140). If you examine the raw data file, you can see that there is a lot of redundant information such as the time of each tweet or usernames. For our sentiment analysis, we simply need the tweets and ground truth labels. To preprocess the data file, simply paste the original CSV file in the root project directory without changing the file name and run the script `preprocess_dataset.py`. This should create a new CSV file called `dataset.csv`. (The reason why we do not include the data files on the GitHub repository is that they are simply too big.) Then, you're ready to create a dataset and dataloader below.\n",
        "\n",
        "Notice that the original dataset contains 1.6 million tweets; that is huge! Therefore, it may take forever to train on so much data, especially if you happen not to have access to a fast GPU (talk to the officers about getting access to the ACM AI server!). Therefore, in the next cell you can configure whether to use the whole dataset or just a subset of it."
      ]
    },
    {
      "cell_type": "code",
      "source": [
        "import torch\n",
        "import csv\n",
        "import numpy as np\n",
        "from torch.utils.data import Dataset\n",
        "\n",
        "class SentimentDataset(Dataset):\n",
        "\n",
        "    def __init__(self, csv_path, training_set=True):\n",
        "        tweets = []\n",
        "        labels = []\n",
        "        with open(csv_path, 'r') as file:\n",
        "            csv_reader = csv.reader(file)\n",
        "            for row in csv_reader:\n",
        "                tweets.append(row[0])\n",
        "                labels.append(int(row[1]))\n",
        "\n",
        "        total_tweets = len(tweets)\n",
        "        train_indices = np.random.choice(total_tweets, int(0.8 * total_tweets), replace=False)\n",
        "        test_indices = np.setdiff1d(np.arange(total_tweets), train_indices)\n",
        "\n",
        "        if training_set:\n",
        "            self.tweets = [tweets[i] for i in train_indices]\n",
        "            self.labels = [labels[i] for i in train_indices]\n",
        "        else:\n",
        "            self.tweets = [tweets[i] for i in test_indices]\n",
        "            self.labels = [labels[i] for i in test_indices]\n",
        "\n",
        "    def __len__(self):\n",
        "        return len(self.tweets)\n",
        "\n",
        "    def __getitem__(self, idx):\n",
        "        return self.tweets[idx], self.labels[idx]"
      ],
      "metadata": {
        "id": "6cCMTmMWTcSX"
      },
      "execution_count": null,
      "outputs": []
    },
    {
      "cell_type": "code",
      "execution_count": null,
      "metadata": {
        "id": "WyDXyQsYSRnY"
      },
      "outputs": [],
      "source": [
        "use_subset_of_data = True\n",
        "subset_percentage = 0.05 # set the percentage of original dataset size you'd like to use"
      ]
    },
    {
      "cell_type": "code",
      "execution_count": null,
      "metadata": {
        "id": "gAl8fJXRSRnZ"
      },
      "outputs": [],
      "source": [
        "train_data = SentimentDataset('/content/drive/MyDrive/dataset.csv', training_set=True)\n",
        "test_data = SentimentDataset('/content/drive/MyDrive/dataset.csv', training_set=False)\n",
        "\n",
        "if use_subset_of_data:\n",
        "    train_set_len = int(subset_percentage * len(train_data))\n",
        "    test_set_len = int(subset_percentage * len(test_data))\n",
        "\n",
        "    train_subset_indices = np.random.choice(len(train_data), size=train_set_len, replace=False)\n",
        "    train_sampler = SubsetRandomSampler(train_subset_indices)\n",
        "\n",
        "    test_subset_indices = np.random.choice(len(test_data), size=test_set_len, replace=False)\n",
        "    test_sampler = SubsetRandomSampler(test_subset_indices)\n",
        "\n",
        "    train_loader = DataLoader(train_data, batch_size=32, sampler=train_sampler)\n",
        "    test_loader = DataLoader(test_data, batch_size=32, sampler=test_sampler)\n",
        "\n",
        "else:\n",
        "    train_loader = DataLoader(train_data, batch_size=32, shuffle=True)\n",
        "    test_loader = DataLoader(test_data, batch_size=32, shuffle=False)"
      ]
    },
    {
      "cell_type": "markdown",
      "metadata": {
        "id": "6GFQ2jehSRna"
      },
      "source": [
        "Let's examine a sample tweet from the dataset and print its corresponding ground truth label. Label 1 corresponds to positive sentiment, while label 0 stands for negative sentiment. You can run the cell below multiple times to see different tweets."
      ]
    },
    {
      "cell_type": "code",
      "execution_count": null,
      "metadata": {
        "id": "9-7dRH69SRna",
        "colab": {
          "base_uri": "https://localhost:8080/"
        },
        "outputId": "fb294ab1-81ef-4759-e58c-8bb6efae444d"
      },
      "outputs": [
        {
          "output_type": "stream",
          "name": "stdout",
          "text": [
            "Sample tweet:  has been dumped......her and her kids and without being told about it from the man himself! Left for a game of golf never to return!! \n",
            "Ground truth label:  0\n"
          ]
        }
      ],
      "source": [
        "tweets, labels = next(iter(train_loader))\n",
        "print(\"Sample tweet: \", tweets[0])\n",
        "print(\"Ground truth label: \", labels[0].numpy())"
      ]
    },
    {
      "cell_type": "markdown",
      "metadata": {
        "id": "fCawovxkSRnc"
      },
      "source": [
        "## Fine-tuning BERT\n",
        "\n",
        "First, let's examine the performance of a pre-trained BERT model on the sentiment analysis task. BERT (original paper [here](https://arxiv.org/abs/1810.04805)) is a language representation model released by Google in 2018 that uses a Bidirectional Transformer architecture.\n",
        "\n",
        "It can be easily fine-tuned on downstream tasks such as sentiment analysis by appending a classification layer to the original BERT architecture. This is already done automatically by importing the `BertForSequenceClassification` from the Hugging Face library called `transformers`. The newly added classification layer is untrained (as you'll see in the warning that appears when you run the following cell) and so we have to fine-tune on the Sentiment-140 data. We will also import a pre-trained tokenizer, which is necessary to convert inputs from natural language to a numerical representation machine learning models can understand. The tokenizer imported from Hugging Face uses WordPiece tokenization, you can learn more about the algorithm [here](https://huggingface.co/learn/nlp-course/en/chapter6/6)."
      ]
    },
    {
      "cell_type": "code",
      "execution_count": null,
      "metadata": {
        "id": "_WKFezQySRnc",
        "colab": {
          "base_uri": "https://localhost:8080/",
          "height": 340,
          "referenced_widgets": [
            "12724f8ef2324f36845cd9683166706a",
            "26a81fd53d054f25b2234f073802468d",
            "3cf8ed81ec1c4eceb863f38782498bcf",
            "1918ee1660914ae6b0a2c43eb9fcf4bb",
            "74c80444f56345beacb0b5ab7c9293c7",
            "c1a30b6bce784ada930257ef3c719afc",
            "a2fee76c6fe24f828408f8756ffd0981",
            "7adf82890b354cf9ae7b94f1002fb5f9",
            "ea8158c235584c54b3d6c5f7e997787b",
            "005c826ca0a04d60ae84d02e1bd01f62",
            "1988ae776277412580ac944157b9d92c",
            "f9e670b4c78e4325ba4b83ef65fc9ea9",
            "c4d892a8017d437bb060f5fbe356e501",
            "a3ce2398bfa84607acf9278eb41489e2",
            "92572913044c4ff189ac4740737920d0",
            "e998cfa718094123996961389bea5391",
            "a4bbeccc3fcc47e680803b64d4b8c5ba",
            "dc1aa89e3e6d4093a964b117034bfb20",
            "fa33ba7d52334b4d95957d8b3fc416c6",
            "a9f07e9eee9749aebcbca2d19fc6badc",
            "9324a9a46ee442df9d1abca90c2062e2",
            "cb41d18d3dbb47b88d35cb832ed9317a",
            "dcd01fb364ae4e6fb094effcfd1c9ad5",
            "ebe17669b526405db825af37b570b336",
            "58b92c1653244ac0a376c93131047a05",
            "27f46ab3bec74f23846e2a5b6fb6d350",
            "0aefd03d17894a7eaf8656831a1db178",
            "fe210dc369644a96ba963c9a78269d6e",
            "77040eafe5bf41aa9f0351bbfd2aa5d5",
            "79c5cbabed5248f2863083e3b97707c9",
            "981da1432c0d414abe838012351420cb",
            "2f241d7185c047a1b6f84bc3180cdae9",
            "e13bf90a241841309162d299e779ff98",
            "276ec2af6548452484b9b609b37a971b",
            "cccb697e1d7747d5ab4f305286899103",
            "c87e9d75f39048ec9dc9280427e48c36",
            "ebc60e8263e847848f3ded721286faa7",
            "5ce3ff17f2b74ef3862b81137a1f621e",
            "9a8a90e3ad434682ba3eadad80da39a2",
            "ad1a1b06e2ba4289bb0ded1d71d1dabf",
            "452812bbdcc646c08e7ac3e33c3d5ea3",
            "afdf24308d084d65acea6b6fc1a42989",
            "c73caa38bd674dcaa60dd1efd9925ee4",
            "10cf706443c8457bae868902c5a0cdfd",
            "6073ecc2e27947928f60f9993f961545",
            "30f5a761affb4545a09fb16f1df31428",
            "360990d9e1bf4388a598c6e766db163a",
            "9f4f2bdfa3b74d76850f5b64d3ae1bfd",
            "afef5a72b0974b6f9d14d5bc4a6f4ff9",
            "00e1966288754b7aa6ed80d221c895ce",
            "c0c4bc44db73485c839e3dc74570aa95",
            "34484fba239b46d68f8a49d50c0b80d5",
            "483f836b12ec424fa5c27a8ccc2e4053",
            "15d3c37535574c8dbc22e1d8771b16fa",
            "4e6b540ea50047b886bbda31b62cd5b9"
          ]
        },
        "outputId": "3d18ece2-e676-4b25-eaea-de2aef42d4c2"
      },
      "outputs": [
        {
          "output_type": "stream",
          "name": "stderr",
          "text": [
            "/usr/local/lib/python3.10/dist-packages/huggingface_hub/utils/_token.py:88: UserWarning: \n",
            "The secret `HF_TOKEN` does not exist in your Colab secrets.\n",
            "To authenticate with the Hugging Face Hub, create a token in your settings tab (https://huggingface.co/settings/tokens), set it as secret in your Google Colab and restart your session.\n",
            "You will be able to reuse this secret in all of your notebooks.\n",
            "Please note that authentication is recommended but still optional to access public models or datasets.\n",
            "  warnings.warn(\n"
          ]
        },
        {
          "output_type": "display_data",
          "data": {
            "text/plain": [
              "tokenizer_config.json:   0%|          | 0.00/48.0 [00:00<?, ?B/s]"
            ],
            "application/vnd.jupyter.widget-view+json": {
              "version_major": 2,
              "version_minor": 0,
              "model_id": "12724f8ef2324f36845cd9683166706a"
            }
          },
          "metadata": {}
        },
        {
          "output_type": "display_data",
          "data": {
            "text/plain": [
              "vocab.txt:   0%|          | 0.00/232k [00:00<?, ?B/s]"
            ],
            "application/vnd.jupyter.widget-view+json": {
              "version_major": 2,
              "version_minor": 0,
              "model_id": "f9e670b4c78e4325ba4b83ef65fc9ea9"
            }
          },
          "metadata": {}
        },
        {
          "output_type": "display_data",
          "data": {
            "text/plain": [
              "tokenizer.json:   0%|          | 0.00/466k [00:00<?, ?B/s]"
            ],
            "application/vnd.jupyter.widget-view+json": {
              "version_major": 2,
              "version_minor": 0,
              "model_id": "dcd01fb364ae4e6fb094effcfd1c9ad5"
            }
          },
          "metadata": {}
        },
        {
          "output_type": "display_data",
          "data": {
            "text/plain": [
              "config.json:   0%|          | 0.00/570 [00:00<?, ?B/s]"
            ],
            "application/vnd.jupyter.widget-view+json": {
              "version_major": 2,
              "version_minor": 0,
              "model_id": "276ec2af6548452484b9b609b37a971b"
            }
          },
          "metadata": {}
        },
        {
          "output_type": "display_data",
          "data": {
            "text/plain": [
              "model.safetensors:   0%|          | 0.00/440M [00:00<?, ?B/s]"
            ],
            "application/vnd.jupyter.widget-view+json": {
              "version_major": 2,
              "version_minor": 0,
              "model_id": "6073ecc2e27947928f60f9993f961545"
            }
          },
          "metadata": {}
        },
        {
          "output_type": "stream",
          "name": "stderr",
          "text": [
            "Some weights of BertForSequenceClassification were not initialized from the model checkpoint at bert-base-uncased and are newly initialized: ['classifier.bias', 'classifier.weight']\n",
            "You should probably TRAIN this model on a down-stream task to be able to use it for predictions and inference.\n"
          ]
        }
      ],
      "source": [
        "model_name = \"bert-base-uncased\"\n",
        "tokenizer = BertTokenizer.from_pretrained(model_name)\n",
        "pretrained_model = BertForSequenceClassification.from_pretrained(model_name, num_labels=2)"
      ]
    },
    {
      "cell_type": "markdown",
      "metadata": {
        "id": "t0_xzC8lSRnd"
      },
      "source": [
        "Below, we define a `preprocess` function that takes in the tweets and tokenizes them. The tokenizer will break down words into smaller units called subword tokens and map these words to numbers (IDs), which can be processed by the model. Furthermore, it will add special tokens to the sequence that will normalize inputs to the model.\n",
        "\n",
        "The `preprocess` function return `input_ids` which represents the tokenized input sequence and `attention_mask` which specifies to the model which tokens to attend to while computing self-attention (more on that later!)."
      ]
    },
    {
      "cell_type": "code",
      "execution_count": null,
      "metadata": {
        "id": "ekl3P1hJSRne"
      },
      "outputs": [],
      "source": [
        "def preprocess(tweets):\n",
        "\n",
        "    encoded_batch = tokenizer.batch_encode_plus(\n",
        "        tweets,\n",
        "        add_special_tokens=True,\n",
        "        max_length=128,\n",
        "        padding='max_length',\n",
        "        truncation=True,\n",
        "        return_attention_mask=True,\n",
        "        return_tensors='pt'\n",
        "    )\n",
        "\n",
        "    input_ids = encoded_batch['input_ids']\n",
        "    attention_masks = encoded_batch['attention_mask']\n",
        "\n",
        "    return input_ids, attention_masks"
      ]
    },
    {
      "cell_type": "markdown",
      "metadata": {
        "id": "EfKka5RbSRne"
      },
      "source": [
        "There are three different types of special tokens normally used by the BERT tokenizer. `[CLS]` token is added at the beginning of the input sequence. The final hidden state corresponding to the `[CLS]` token is typically used as the representation of the entire input sequence for classification tasks, so it will be very useful to us later for sentiment analysis. The `[SEP]` token is used to separate different segments of the input sequence. It helps the model distinguish between different parts of the input and process them accordingly. In our case, one `[SEP]` token will typically be added at the end of the tokenized input sequence (tweet). Finally, the `[PAD]` token is used for padding shorter input sequences to a fixed length, so that they can be easily processed in batches without any shape mismatch issues. With BERT, we would typically pad the input sequence to reach a total length of 512 tokens; however, since we're analyzing tweets that are by definition very short, using maximum sequence length of 128 tokens should suffice.\n",
        "\n",
        "Below, you can see what the IDs reserved for special tokens are."
      ]
    },
    {
      "cell_type": "code",
      "execution_count": null,
      "metadata": {
        "id": "YKuJbrWSSRne",
        "colab": {
          "base_uri": "https://localhost:8080/"
        },
        "outputId": "07a0ac8e-173f-4bc0-a6f2-b0f8548362d2"
      },
      "outputs": [
        {
          "output_type": "stream",
          "name": "stdout",
          "text": [
            "[CLS] Token ID: 101, [SEP] Token ID: 102, [PAD] Token ID: 0\n"
          ]
        }
      ],
      "source": [
        "cls_token_id = tokenizer.cls_token_id\n",
        "sep_token_id = tokenizer.sep_token_id\n",
        "pad_token_id = tokenizer.pad_token_id\n",
        "\n",
        "print(\"[CLS] Token ID: \" + str(cls_token_id) + \", [SEP] Token ID: \" + str(sep_token_id) + \", [PAD] Token ID: \" + str(pad_token_id))"
      ]
    },
    {
      "cell_type": "markdown",
      "metadata": {
        "id": "6buAeNQmSRnf"
      },
      "source": [
        "We can print a sample tweet and its corresponding tokenized representation. Notice that each input sequence starts with token ID 101 (CLS token), ends with token ID 102 (SEP token), and is padded with token ID 0 (PAD token)."
      ]
    },
    {
      "cell_type": "code",
      "execution_count": null,
      "metadata": {
        "id": "scmbuZsLSRnf",
        "colab": {
          "base_uri": "https://localhost:8080/"
        },
        "outputId": "3d67d842-f50b-45a5-a07a-a3509f89f0d1"
      },
      "outputs": [
        {
          "output_type": "stream",
          "name": "stdout",
          "text": [
            "Sample tweet:  @optimuscupcake i want black icing and neon green sprinkles  \n",
            "\n",
            "Tokenized representation:  tensor([  101,  1030, 23569, 19315, 15569, 17955,  1045,  2215,  2304, 24582,\n",
            "         2075,  1998, 16231,  2665, 11867,  6657, 19099,  2015,   102,     0,\n",
            "            0,     0,     0,     0,     0,     0,     0,     0,     0,     0,\n",
            "            0,     0,     0,     0,     0,     0,     0,     0,     0,     0,\n",
            "            0,     0,     0,     0,     0,     0,     0,     0,     0,     0,\n",
            "            0,     0,     0,     0,     0,     0,     0,     0,     0,     0,\n",
            "            0,     0,     0,     0,     0,     0,     0,     0,     0,     0,\n",
            "            0,     0,     0,     0,     0,     0,     0,     0,     0,     0,\n",
            "            0,     0,     0,     0,     0,     0,     0,     0,     0,     0,\n",
            "            0,     0,     0,     0,     0,     0,     0,     0,     0,     0,\n",
            "            0,     0,     0,     0,     0,     0,     0,     0,     0,     0,\n",
            "            0,     0,     0,     0,     0,     0,     0,     0,     0,     0,\n",
            "            0,     0,     0,     0,     0,     0,     0,     0])\n"
          ]
        }
      ],
      "source": [
        "tweets, labels = next(iter(train_loader))\n",
        "print(\"Sample tweet: \", tweets[0], '\\n')\n",
        "input_ids, att_masks = preprocess(tweets)\n",
        "print(\"Tokenized representation: \", input_ids[0])"
      ]
    },
    {
      "cell_type": "markdown",
      "metadata": {
        "id": "WYB5hfYYSRnf"
      },
      "source": [
        "Next, we need to define a training and evaluation loop. Notice that we use the `preprocess` function in both the `train` and `evaluate` to transform the natural language input to tokenized representation. We will also collect loss and accuracy statistics during training, so that we can plot the training history later.\n",
        "\n",
        "Note that the `finetuning` parameter is used simply because the internal Hugging Face representation of the pre-trained model is slightly different from what our representation will be when we later define our own transformer model. Thus, when using the training loop for fine-tuning the pre-trained downloaded from Hugging Face, set `finetuning=True`, otherwise set it to `False`."
      ]
    },
    {
      "cell_type": "code",
      "execution_count": null,
      "metadata": {
        "id": "jywnftxLSRnf"
      },
      "outputs": [],
      "source": [
        "def train(model, train_loader, val_loader, optimizer, criterion, device,\n",
        "          num_epochs, finetuning=False):\n",
        "\n",
        "    # Place model on device\n",
        "    model = model.to(device)\n",
        "\n",
        "    loss_history = []\n",
        "    acc_history = []\n",
        "\n",
        "    for epoch in range(num_epochs):\n",
        "        model.train()  # Set model to training mode\n",
        "\n",
        "        # Use tqdm to display a progress bar during training\n",
        "        with tqdm(total=len(train_loader),\n",
        "                  desc=f'Epoch {epoch + 1}/{num_epochs}',\n",
        "                  position=0,\n",
        "                  leave=True) as pbar:\n",
        "\n",
        "            for inputs, labels in train_loader:\n",
        "\n",
        "                input_ids, attention_masks = preprocess(inputs)\n",
        "                # Move inputs and labels to device\n",
        "                input_ids = input_ids.to(device)\n",
        "                attention_masks = attention_masks.to(device)\n",
        "                labels = labels.to(device)\n",
        "\n",
        "                # Zero out gradients\n",
        "                optimizer.zero_grad()\n",
        "\n",
        "                # Compute the logits and loss\n",
        "                outputs = model(input_ids=input_ids, attention_mask=attention_masks)\n",
        "                if finetuning:\n",
        "                    outputs = outputs.logits\n",
        "                loss = criterion(outputs, labels)\n",
        "\n",
        "                # Backpropagate the loss\n",
        "                loss.backward()\n",
        "\n",
        "                # Update the weights\n",
        "                optimizer.step()\n",
        "\n",
        "                # Update the progress bar\n",
        "                pbar.update(1)\n",
        "                pbar.set_postfix(loss=loss.item())\n",
        "\n",
        "                loss_history.append(loss.item())\n",
        "\n",
        "\n",
        "        avg_loss, accuracy = evaluate(model, val_loader, criterion, device, finetuning)\n",
        "        print(\n",
        "            f'Test set: Average loss = {avg_loss:.4f}, Accuracy = {accuracy:.4f}'\n",
        "        )\n",
        "        acc_history.append(accuracy)\n",
        "\n",
        "    return loss_history, acc_history\n",
        "\n",
        "\n",
        "def evaluate(model, test_loader, criterion, device, finetuning=False):\n",
        "\n",
        "    model.eval()  # Set model to evaluation mode\n",
        "\n",
        "    with torch.no_grad():\n",
        "        total_loss = 0.0\n",
        "        num_correct = 0\n",
        "        num_samples = 0\n",
        "\n",
        "        for inputs, labels in test_loader:\n",
        "\n",
        "            input_ids, attention_masks = preprocess(inputs)\n",
        "            # Move inputs and labels to device\n",
        "            input_ids = input_ids.to(device)\n",
        "            attention_masks = attention_masks.to(device)\n",
        "            labels = labels.to(device)\n",
        "\n",
        "            # Compute the logits and loss\n",
        "            outputs = model(input_ids=input_ids, attention_mask=attention_masks)\n",
        "            if finetuning:\n",
        "                outputs = outputs.logits\n",
        "            loss = criterion(outputs, labels)\n",
        "            total_loss += loss.item()\n",
        "\n",
        "            # Compute the accuracy\n",
        "            _, predictions = torch.max(outputs, dim=1)\n",
        "            num_correct += (predictions == labels).sum().item()\n",
        "            num_samples += len(labels)\n",
        "\n",
        "    # Compute the average loss and accuracy\n",
        "    avg_loss = total_loss / len(test_loader)\n",
        "    accuracy = num_correct / num_samples\n",
        "\n",
        "    return avg_loss, accuracy"
      ]
    },
    {
      "cell_type": "markdown",
      "metadata": {
        "id": "vzPrg-0ASRng"
      },
      "source": [
        "Make sure you are running the model on CUDA."
      ]
    },
    {
      "cell_type": "code",
      "execution_count": null,
      "metadata": {
        "id": "0uLCkctsSRng",
        "colab": {
          "base_uri": "https://localhost:8080/"
        },
        "outputId": "c0f97867-99cb-4c42-a778-99ad2cce4598"
      },
      "outputs": [
        {
          "output_type": "stream",
          "name": "stdout",
          "text": [
            "cuda\n"
          ]
        }
      ],
      "source": [
        "device = torch.device('cuda' if torch.cuda.is_available() else 'cpu')\n",
        "print(device)"
      ]
    },
    {
      "cell_type": "markdown",
      "metadata": {
        "id": "khW1-hpSSRnh"
      },
      "source": [
        "We will finetune all the weights in the BERT model (including the pre-trained weights and the newly initialized classifier weights). An alternative approach would be to freeze the pre-trained weights and only fine-tune the classifier weights. You can do that by passing in `model.classifier.parameters()` to the optimizer instead of passing in all the weights of the model."
      ]
    },
    {
      "cell_type": "code",
      "execution_count": null,
      "metadata": {
        "id": "xNjE6tf0SRnh",
        "colab": {
          "base_uri": "https://localhost:8080/"
        },
        "outputId": "b0cafb0c-f52c-4609-c21f-c527a913c5aa"
      },
      "outputs": [
        {
          "output_type": "stream",
          "name": "stderr",
          "text": [
            "Epoch 1/1: 100%|██████████| 2000/2000 [20:17<00:00,  1.64it/s, loss=0.23]\n"
          ]
        },
        {
          "output_type": "stream",
          "name": "stdout",
          "text": [
            "Test set: Average loss = 0.3557, Accuracy = 0.8453\n"
          ]
        }
      ],
      "source": [
        "optimizer = torch.optim.AdamW(pretrained_model.parameters(), lr=2e-5)\n",
        "criterion = nn.CrossEntropyLoss()\n",
        "\n",
        "loss_history, acc_history = train(pretrained_model, train_loader, test_loader, optimizer, criterion, device, num_epochs=1, finetuning=True)\n",
        "\n",
        "# Let's save our trained weights\n",
        "torch.save(pretrained_model.state_dict(), 'bert_fine_tuned.pt')"
      ]
    },
    {
      "cell_type": "markdown",
      "metadata": {
        "id": "EeMZdPmtSRnh"
      },
      "source": [
        "Next, let's plot our training loss and test accuracy history that documents the fine-tuning process."
      ]
    },
    {
      "cell_type": "code",
      "execution_count": null,
      "metadata": {
        "id": "w0BSe1nmSRnh",
        "colab": {
          "base_uri": "https://localhost:8080/",
          "height": 472
        },
        "outputId": "115c76b7-9d8d-4c6d-f331-b611927b3073"
      },
      "outputs": [
        {
          "output_type": "display_data",
          "data": {
            "text/plain": [
              "<Figure size 640x480 with 1 Axes>"
            ],
            "image/png": "[encoded data removed]"
          },
          "metadata": {}
        }
      ],
      "source": [
        "plt.plot(loss_history)\n",
        "plt.xlabel('Iterations')\n",
        "plt.ylabel('Cross-entropy Loss')\n",
        "plt.title('BERT Fine-tuning, Loss history')\n",
        "plt.show()"
      ]
    },
    {
      "cell_type": "markdown",
      "metadata": {
        "id": "5il8EwNtSRni"
      },
      "source": [
        "## Creating our own Transformer architecture from scratch\n",
        "\n",
        "That was fun, right? But maybe slightly too easy, don't you think? Let's try to implement our own transformer architecture now, without the help of pre-trained models. We will base our architecture off of BERT, which will also allow us to effectively compare the performance of our own implementation with the pre-trained model. The high-level of the model architecture can be seen below.\n",
        "\n",
        "Note that, compared to illustration below, all the tensor sizes will most likely be different and specific to the hyperparameters of our model.\n",
        "\n",
        "![BERT For Sequence Classification](https://github.com/uclaacmai/Tweets-Are-All-You-Need/blob/main/bert_classification.png?raw=true)\n",
        "\n",
        "![BERT Encoder](https://github.com/uclaacmai/Tweets-Are-All-You-Need/blob/main/bert_encoder.png?raw=true)"
      ]
    },
    {
      "cell_type": "markdown",
      "metadata": {
        "id": "d6K-0IoGSRni"
      },
      "source": [
        "Let's first define some hyperparameters of our network. (You can also play around with these later to improve your model's performance.)"
      ]
    },
    {
      "cell_type": "code",
      "execution_count": null,
      "metadata": {
        "id": "HBbm2_FDSRni"
      },
      "outputs": [],
      "source": [
        "MAX_SEQ_LEN = 128 # Maximum length of tokenized input sequence (we already covered this above!)\n",
        "VOCAB_SIZE = 30522 # number of different token -> ID mappings, specific to the BERT Tokenizer (do not change)\n",
        "N_LAYERS = 12 # number of transformer layers stacked on top of each other\n",
        "N_HEADS = 12 # number of heads of the transformer, input sequence will be split and equally distributed to each head\n",
        "EMB_SIZE = 768 # refers to the dimensionality of the vector representations used to encode input tokens\n",
        "INTERMEDIATE_SIZE = EMB_SIZE * 4 # dimensionality of output of the Intermediate layer\n",
        "DROPOUT = 0.1 # probability of dropping a neuron during training\n",
        "N_CLASSES = 2 # we are classifying the sentiment of each tweet simply as POSITIVE or NEGATIVE\n",
        "LAYER_NORM_EPS = 1e-12 # value used in Layer Norm for numerical stability"
      ]
    },
    {
      "cell_type": "markdown",
      "metadata": {
        "id": "N8nKhYzFSRni"
      },
      "source": [
        "## Transformers\n",
        "\n",
        "Transformers are a type of neural network architecture primarily used in the field of natural language processing (NLP). Unlike previous models that processed inputs sequentially (like RNNs), transformers process whole sequences of data in parallel, which significantly speeds up training.\n",
        "\n",
        "### Why are they important?\n",
        "\n",
        "They have been highly successful in a variety of NLP tasks like translation, text summarization, and sentiment analysis due to their ability to handle long-range dependencies in text."
      ]
    },
    {
      "cell_type": "markdown",
      "metadata": {
        "id": "iURI3NuHSRnj"
      },
      "source": [
        "### Components of Transformers\n",
        "\n",
        "1. Input Embeddings + Positional Encoding\n",
        "2. Multi-Head Attention\n",
        "3. Positional-Wise Feed-Forward Networks\n",
        "4. Layer Normalization and Residual Connections\n"
      ]
    },
    {
      "cell_type": "markdown",
      "metadata": {
        "id": "mGqVQuc5SRnj"
      },
      "source": [
        "## 1. Input Embeddings\n",
        "\n",
        "Converts tokens (words) into vectors of continuous numbers that the model can understand.  \n",
        "\n",
        "*(Optional)* Check out 3Blue1Brown's video on Word Embeddings [here](https://www.youtube.com/watch?v=wjZofJX0v4M)."
      ]
    },
    {
      "cell_type": "markdown",
      "metadata": {
        "id": "WSzXHfHcSRnj"
      },
      "source": [
        "### Concept of Embeddings\n",
        "\n",
        "Embeddings are vector representations of text, where words with **similar meanings** have **similar representations**. These vectors are learned and adjusted during the training of the model to optimize performance on a specific task."
      ]
    },
    {
      "cell_type": "markdown",
      "metadata": {
        "id": "_O8cCzAZSRnj"
      },
      "source": [
        "### Importance of Embeddings\n",
        "\n",
        "Embeddings capture the semantic properties of words, which means they convert the words/tokens into a form that a neural network can work with. This allows the model to **understand and process language** by **quantifying the similarities between different words or phrases**."
      ]
    },
    {
      "cell_type": "markdown",
      "metadata": {
        "id": "6wC2LaNYSRnk"
      },
      "source": [
        "### Embeddings in Transformers\n",
        "\n",
        "1. **Tokenization**:\n",
        "   - **Process**: Text input is split into tokens (words or subwords), which are then converted into numerical IDs that correspond to entries in the embedding table.\n",
        "   - **Role in Model**: This step is critical because it translates human-readable text into a format that can be mathematically manipulated by the model.\n",
        "\n",
        "2. **Lookup Table**:\n",
        "   - **Process**: Each token ID is used to retrieve its corresponding embedding vector from an embedding matrix (or table) that the model learns during training.\n",
        "   - **Role in Model**: This embedding matrix acts as the foundational input layer of the transformer, providing a dense and informative representation for each token.\n",
        "\n",
        "3. **Dimensionality**:\n",
        "   - **Process**: Embeddings are usually vectors of fixed size (e.g., 256, 512 dimensions), regardless of the vocabulary size.\n",
        "   - **Role in Model**: Higher dimensions generally capture more detailed semantic information about each token, but also increase model complexity and computational cost."
      ]
    },
    {
      "cell_type": "markdown",
      "metadata": {
        "id": "lXvyjUAbSRnk"
      },
      "source": [
        "### Positional Embeddings\n",
        "\n",
        "If we only turn words into embeddings, the model won't know the order of them in a sentence. We need to somehow preserve the positional info.\n",
        "\n",
        "- **Concept**: Since transformers process words in parallel rather than sequentially, positional encodings are added to embeddings to give the model information about the order of words in a sentence.\n",
        "- **Why Necessary**: Helps the model understand how the position of a word in a sentence affects its meaning."
      ]
    },
    {
      "cell_type": "markdown",
      "metadata": {
        "id": "B9WNwWnHSRnk"
      },
      "source": [
        "### Training and Adjustments\n",
        "\n",
        "**Learning Process**:\n",
        "- Embeddings are not static; they are adjusted during the training process to minimize the model's prediction error. This learning happens through backpropagation, which adjusts the embeddings to better capture the relationships and contexts in which words appear.\n",
        "\n",
        "**Impact on Performance**:\n",
        "- The quality of embeddings significantly affects the model's performance. Better embeddings lead to a better understanding of language nuances, such as synonyms, antonyms, and different contexts."
      ]
    },
    {
      "cell_type": "markdown",
      "metadata": {
        "id": "IuuQOfUoSRnk"
      },
      "source": [
        "### Toy Example"
      ]
    },
    {
      "cell_type": "code",
      "execution_count": null,
      "metadata": {
        "id": "VvZhnz1ISRnl",
        "colab": {
          "base_uri": "https://localhost:8080/"
        },
        "outputId": "fe5302d7-6595-40b4-c482-ad702faf57d3"
      },
      "outputs": [
        {
          "output_type": "stream",
          "name": "stdout",
          "text": [
            "tensor([[ 0.2085, -1.0983,  1.0360, -1.4786, -0.9930, -0.0068,  0.2559, -0.4857,\n",
            "          0.3145,  0.4350,  0.2871, -1.0798, -0.4301, -1.4267,  0.0493,  0.1683,\n",
            "          2.7375,  0.8925, -0.0096, -0.9324, -0.7598,  1.3814,  2.3692,  0.2195,\n",
            "         -1.0504,  0.5390,  0.9042,  0.6129,  1.8894,  0.7497,  0.0600, -0.8162,\n",
            "          0.9702, -1.5294,  0.0245,  0.5080,  0.7772, -1.0235,  0.9481,  0.0375,\n",
            "         -1.0608, -1.6873, -0.2072, -0.8815,  0.2255,  0.5496, -0.9266, -0.3729,\n",
            "         -1.0844, -0.7800,  0.4762,  0.3130,  0.2069, -1.0293, -0.0299, -0.7197,\n",
            "          0.8413, -0.7781, -1.1773,  0.8741, -0.4743,  1.3740, -0.7597,  1.5232],\n",
            "        [ 0.4229,  0.0125, -0.6695,  1.8914,  0.5906, -0.0711,  0.2526,  0.1509,\n",
            "          1.7014, -0.2028,  1.2206,  0.8552,  1.6262,  0.0216,  0.8008, -0.1936,\n",
            "          0.7208, -0.4212, -1.4188, -1.0582, -1.4835, -0.0519,  0.4505,  0.3265,\n",
            "         -0.8002,  0.0863, -0.2505,  0.6955,  0.9967, -0.3308, -0.4981, -0.3048,\n",
            "         -1.1993, -1.3542, -0.9537,  0.5850,  0.7530, -1.9196, -1.0340,  0.2220,\n",
            "          0.3774,  1.5118, -0.9509,  0.0816, -0.8288,  0.5076,  0.6670,  1.2261,\n",
            "         -0.6543,  1.0699,  0.5658,  0.8087, -0.2357,  0.0155, -1.1193,  1.5386,\n",
            "          1.1668, -0.7556, -0.5504, -0.1391, -0.1336,  0.3285, -0.2192,  1.1071],\n",
            "        [ 0.2597,  0.9620, -0.9284, -0.0841,  0.1075,  0.4557, -1.3476, -0.5840,\n",
            "          1.0292,  0.8487,  3.0986, -0.9778,  0.3304, -0.2055, -0.0154,  1.0375,\n",
            "         -0.4981,  0.1738,  0.2145, -0.1738,  0.4611, -1.1603,  1.5482,  0.6080,\n",
            "          0.2766,  0.1724, -1.1494, -0.3140, -0.1489,  2.2550, -1.2265, -0.4876,\n",
            "         -0.5637, -0.3544, -0.5576, -1.6737,  0.1363, -0.8361,  0.6753,  0.0262,\n",
            "          1.0529, -1.0607, -2.0597, -1.3745,  1.3291, -1.1876,  0.4142,  0.3641,\n",
            "         -0.7438, -1.6644,  0.6575,  0.0338, -0.8645, -0.3942, -0.5326,  0.7864,\n",
            "         -0.3825, -0.1230, -2.0178,  0.5249,  0.4366, -1.5780, -0.8519,  1.5364]],\n",
            "       grad_fn=<EmbeddingBackward0>)\n"
          ]
        }
      ],
      "source": [
        "import torch\n",
        "import torch.nn as nn\n",
        "\n",
        "# Vocabulary size and embedding dimension\n",
        "vocab_size = 1000  # Number of unique tokens\n",
        "embedding_dim = 64  # Size of each embedding vector\n",
        "\n",
        "# Create an embedding layer\n",
        "embedding_layer = nn.Embedding(num_embeddings=vocab_size, embedding_dim=embedding_dim)\n",
        "\n",
        "# Example token IDs\n",
        "token_ids = torch.LongTensor([10, 200, 500])\n",
        "\n",
        "# Get embeddings for token IDs\n",
        "embeddings = embedding_layer(token_ids)\n",
        "print(embeddings)"
      ]
    },
    {
      "cell_type": "markdown",
      "metadata": {
        "id": "OMAcsIKJSRnl"
      },
      "source": [
        "This example initializes an embedding layer with random values which then can be trained to learn meaningful representations through a task like sentiment analysis or machine translation."
      ]
    },
    {
      "cell_type": "markdown",
      "metadata": {
        "id": "j7tE375oSRnl"
      },
      "source": [
        "### Your Turn\n",
        "\n",
        "Now, let's implement the `EmbeddingLayer` class. This class will be responsible for converting tokens into dense vectors that the model can understand. We will use PyTorch's `nn.Embedding` module to create the embedding layer.\n",
        "\n",
        "1. token embedding: vocab -> embedding.\n",
        "2. positional embedding: position -> embedding\n",
        "3. add them together\n",
        "4. layer normalization\n",
        "5. dropout"
      ]
    },
    {
      "cell_type": "code",
      "execution_count": null,
      "metadata": {
        "id": "aRVSUyLpSRnm"
      },
      "outputs": [],
      "source": [
        "class EmbeddingLayer(nn.Module):\n",
        "\n",
        "    def __init__(self, vocab_size, emb_size, max_seq_length, layer_norm_eps=1e-12, dropout=0.1):\n",
        "        super().__init__()\n",
        "\n",
        "        # TODO: Initialize word embeddings\n",
        "        self.word_embeddings = nn.Embedding(num_embeddings=vocab_size, embedding_dim=emb_size)\n",
        "        self.position_embeddings =\n",
        "        self.ln = None\n",
        "        self.dropout = None\n",
        "\n",
        "        # sets self.position_ids to a tensor containing values from 0 to max_seq_length, reshaped to (1, max_seq_length)\n",
        "        # register_buffer makes it so that this does NOT get updated during training\n",
        "        self.register_buffer(\"position_ids\", torch.arange(max_seq_length).expand((1, -1)))\n",
        "\n",
        "    def forward(self, input_ids):\n",
        "        pass\n",
        "\n",
        "        return emb\n"
      ]
    },
    {
      "cell_type": "markdown",
      "metadata": {
        "id": "YVycjfGhSRnm"
      },
      "source": [
        "## 2. Multi-Head Attention\n",
        "\n",
        "Multi-head attention consists of several attention mechanisms (heads) running in parallel. Each head computes an attention score known as \"Scaled Dot-Product Attention,\" which determines how much each element in a sequence should pay attention to every other element. Combining multiple heads allows the model to capture various aspects of semantic relationships in different subspaces.  \n",
        "\n",
        "*(Optional)* Check out 3Blue1Brown's video on Attention Mechanism [here](https://www.youtube.com//watch?v=eMlx5fFNoYc)."
      ]
    },
    {
      "cell_type": "markdown",
      "metadata": {
        "id": "oln_PUw5SRnm"
      },
      "source": [
        "### Why Multi-Head Attention\n",
        "\n",
        "By using multiple attention heads, transformers can:\n",
        "- Capture a richer diversity of relationships within the data.\n",
        "- Focus on different parts of the sentence simultaneously.\n",
        "- Improve the ability of the model to focus on relevant parts of the input for making predictions."
      ]
    },
    {
      "cell_type": "markdown",
      "metadata": {
        "id": "JTWEv4o7SRnm"
      },
      "source": [
        "### Components of Multi-Head Attention\n",
        "\n",
        "1. **Scaled Dot-Product Attention**: The basic attention mechanism computes the dot products of the query with all keys, divides each by the square root of the dimensionality (to stabilize gradients), applies a softmax function to obtain weights on the values, and finally returns an output vector.\n",
        "\n",
        "2. **Multiple Heads**: Each head performs attention independently, allowing the model to focus on different features across different positions in the input sequence.\n",
        "\n",
        "3. **Concatenation and Final Linear Transformation**: Outputs from individual heads are concatenated and passed through a final linear layer to combine the different learned aspects."
      ]
    },
    {
      "cell_type": "markdown",
      "metadata": {
        "id": "E53Pm4zvSRnn"
      },
      "source": [
        "### Your Turn\n",
        "\n",
        "We compute attention using the formula below, introduced in [this](https://arxiv.org/abs/1706.03762) famous paper.\n",
        "\n",
        "![Attention](https://github.com/uclaacmai/Tweets-Are-All-You-Need/blob/main/attention.png?raw=true)"
      ]
    },
    {
      "cell_type": "code",
      "execution_count": null,
      "metadata": {
        "id": "GXvQsqdrSRnn"
      },
      "outputs": [],
      "source": [
        "class MultiHeadAttention(nn.Module):\n",
        "\n",
        "    def __init__(self, emb_size, n_heads, dropout=0.1, layer_norm_eps=1e-12):\n",
        "        '''\n",
        "        Args:\n",
        "            emb_size (int): The size of the input embeddings\n",
        "            n_heads (int): The number of attention heads\n",
        "            dropout (float): The dropout probability\n",
        "            layer_norm_eps (float): The epsilon value for layer normalization\n",
        "\n",
        "        '''\n",
        "        super().__init__()\n",
        "        assert emb_size % n_heads == 0, \"emb_size must be divisible by n_heads\"\n",
        "\n",
        "        # TODO: initialize head size, query, key, value, dropout, final_linear, and layer norm\n",
        "        # you want to use nn.Linear, nn.Dropout, nn.LayerNorm\n",
        "        # query, key, value, final_linear should map from emb_size to emb_size\n",
        "        self.head_size = 0\n",
        "        self.query = None\n",
        "        self.key = None\n",
        "        self.value = None\n",
        "        self.dropout = None\n",
        "\n",
        "        self.final_linear = None\n",
        "        self.ln = None\n",
        "\n",
        "\n",
        "    def forward(self, emb, att_mask):\n",
        "        '''\n",
        "        Args:\n",
        "            emb (torch.Tensor): The input embeddings with shape (B, T, C)\n",
        "            att_mask (torch.Tensor): The attention mask with shape (B, T)\n",
        "\n",
        "        Returns:\n",
        "            torch.Tensor: The output embeddings with shape (B, T, C)\n",
        "\n",
        "        1. You want to obtain the query (Q), key (K), and value (V) tensors from the input embeddings\n",
        "        2. Compute weights:\n",
        "            a. find dot product of Q and K\n",
        "            b. divide by the square root of the head size\n",
        "            c. apply the attention mask\n",
        "            d. apply softmax\n",
        "        3. Compute attention: multiply weights by V\n",
        "        4. Feed the attention through the final linear layer\n",
        "        5. Apply dropout, residual connection, and layer normalization\n",
        "\n",
        "        '''\n",
        "        B, T, C = emb.shape  # batch size, sequence length, embedding size\n",
        "\n",
        "        # TODO: 1. get the query, key, and value tensors\n",
        "        # TODO: 2. rearrange the tensors from B x T x C to B x n_heads x T x head_size\n",
        "\n",
        "        q =\n",
        "        k =\n",
        "        v =\n",
        "\n",
        "        # TODO: compute the weights before attention mask\n",
        "        weights =\n",
        "\n",
        "        # set the pad tokens to -inf so that they equal zero after softmax\n",
        "        if att_mask != None:\n",
        "            att_mask = (att_mask > 0).unsqueeze(1).repeat(1, att_mask.size(1), 1).unsqueeze(1)\n",
        "            weights = weights.masked_fill(att_mask == 0, float('-inf'))\n",
        "\n",
        "        # apply softmax and dropout\n",
        "        weights =\n",
        "\n",
        "        # compute attention\n",
        "        attention =\n",
        "\n",
        "        # rearrange the attention tensor from B x n_heads x T x head_size to B x T x C\n",
        "\n",
        "        # apply final linear layer, dropout, residual connection, and layer normalization\n",
        "        out =\n",
        "\n",
        "        return out\n"
      ]
    },
    {
      "cell_type": "markdown",
      "metadata": {
        "id": "BGFBGcvJSRnn"
      },
      "source": [
        "### Side Note: Layer Normalization and Residual Connections\n",
        "\n",
        "- **Concept**: Techniques used within transformers to stabilize the learning process. Residual connections help in propagating gradients through deep networks without vanishing.\n",
        "- **Why Necessary**: Improves training efficiency and model performance by preventing the vanishing gradient problem."
      ]
    },
    {
      "cell_type": "markdown",
      "metadata": {
        "id": "DaHOxnsVSRno"
      },
      "source": [
        "## 3. Position-Wise Feed-Forward Networks\n",
        "\n",
        "The position-wise feed-forward network is a standard fully connected neural network that applies the same two linear transformations to each position independently and identically. It consists of two layers:\n",
        "- The first linear transformation maps the input dimension `emb_size` to a dimension `intermediate_size` (typically much larger, e.g., 2048).\n",
        "- The second linear transformation maps it back from `intermediate_size` to `emb_size`."
      ]
    },
    {
      "cell_type": "markdown",
      "metadata": {
        "id": "DxoNrioKSRno"
      },
      "source": [
        "### Why Position-wise Feed-Forward Networks\n",
        "\n",
        "This component of the transformer allows the model to consider each position separately and integrate non-linearity into the model. Each position in the encoder or decoder can be thought of as having its own little neural network that processes the information.\n",
        "\n",
        "Its role is two-fold:\n",
        "1. It increases the model's capacity by introducing additional learnable parameters.\n",
        "2. It facilitates the progressive enrichment and refinement of token representations as they pass through each encoder layer."
      ]
    },
    {
      "cell_type": "markdown",
      "metadata": {
        "id": "m1TmA011SRno"
      },
      "source": [
        "### Your Turn"
      ]
    },
    {
      "cell_type": "code",
      "execution_count": null,
      "metadata": {
        "id": "2wPg7fklSRno"
      },
      "outputs": [],
      "source": [
        "class PositionWiseFeedForward(nn.Module):\n",
        "\n",
        "    def __init__(self, emb_size, intermediate_size, dropout=0.1, layer_norm_eps=1e-12):\n",
        "        '''\n",
        "        Args:\n",
        "            emb_size (int): The size of the input embeddings\n",
        "            intermediate_size (int): The size of the intermediate layer\n",
        "            dropout (float): The dropout probability\n",
        "            layer_norm_eps (float): The epsilon value for layer normalization\n",
        "\n",
        "        We want to create two fully connected layers mapping from emb_size to intermediate_size and back\n",
        "        '''\n",
        "\n",
        "        # TODO: initialize the two fully connected layers, gelu, dropout, and layer norm\n",
        "        super().__init__()\n",
        "        self.fc1 = None\n",
        "        self.fc2 = None\n",
        "\n",
        "        # we want some non-linearity between the two layers, we are using GELU, feel free to experiment with other activations\n",
        "        self.gelu = None\n",
        "        self.dropout = None\n",
        "        self.ln = None\n",
        "\n",
        "    def forward(self, att_out):\n",
        "        '''\n",
        "        Args:\n",
        "            att_out (torch.Tensor): The output embeddings from the multi-head attention layer with shape (B, T, C)\n",
        "\n",
        "        Returns:\n",
        "            torch.Tensor: The output embeddings with shape (B, T, C)\n",
        "\n",
        "        TODO:\n",
        "        1. Apply the first fully connected layer and non-linearity\n",
        "        2. Apply the second fully connected layer and dropout\n",
        "        3. Apply a residual connection and layer normalization\n",
        "        '''\n",
        "\n",
        "\n",
        "        return out"
      ]
    },
    {
      "cell_type": "markdown",
      "metadata": {
        "id": "nUKzx1PnSRnp"
      },
      "source": [
        "## Transformer Block: Putting It All Together\n",
        "\n",
        "Now that we have implemented the individual components of the transformer, we can combine them to create a single transformer block. This block will contain the following components:\n",
        "- Multi-Head Attention\n",
        "- Position-wise Feed-Forward Networks\n",
        "- Layer Normalization Residual Connections"
      ]
    },
    {
      "cell_type": "code",
      "execution_count": null,
      "metadata": {
        "id": "zq4oIIbySRnp"
      },
      "outputs": [],
      "source": [
        "class TransformerBlock(nn.Module):\n",
        "\n",
        "    def __init__(self, emb_size, n_heads, intermediate_size, dropout=0.1, layer_norm_eps=1e-12):\n",
        "        '''\n",
        "        Args:\n",
        "            emb_size (int): The size of the input embeddings\n",
        "            n_heads (int): The number of attention heads\n",
        "            intermediate_size (int): The size of the intermediate layer\n",
        "            dropout (float): The dropout probability\n",
        "            layer_norm_eps (float): The epsilon value for layer normalization\n",
        "\n",
        "        We want to create a transformer block that consists of a multi-head attention layer and a position-wise feed forward layer.\n",
        "        Note: We took care of layer normalization and residual connections in the previous MultiHeadAttention and PositionWiseFeedForward classes\n",
        "        '''\n",
        "\n",
        "        # TODO: initialization\n",
        "        super().__init__()\n",
        "        self.attn = None\n",
        "        self.ff = None\n",
        "\n",
        "    def forward(self, emb, att_mask):\n",
        "        '''\n",
        "        Args:\n",
        "            emb (torch.Tensor): The input embeddings with shape (B, T, C)\n",
        "            att_mask (torch.Tensor): The attention mask with shape (B, T)\n",
        "\n",
        "        Returns:\n",
        "            torch.Tensor: The output embeddings with shape (B, T, C)\n",
        "\n",
        "        Take emb and att_mask and pass them through the multi-head attention layer and position-wise feed forward layer\n",
        "        '''\n",
        "\n",
        "        return out"
      ]
    },
    {
      "cell_type": "markdown",
      "metadata": {
        "id": "dyG1LsujSRnq"
      },
      "source": [
        "## Your Own BERT\n",
        "\n",
        "Now, you have everything you need to create your own (simplified) BERT* model. This model will consist of the following components:\n",
        "\n",
        "1. Embedding Layer\n",
        "2. Encoder Block (multiple transformer blocks stacked together)\n",
        "3. Pooler (to aggregate information from the encoder)\n",
        "4. Classifier (to predict the sentiment of the input text)\n",
        "\n",
        "***Note**: we are not exactly replicating BERT, but rather creating a simplified version of it for educational purposes."
      ]
    },
    {
      "cell_type": "markdown",
      "metadata": {
        "id": "YRKZOqlTSRnq"
      },
      "source": [
        "## Encoder Block\n",
        "\n",
        "The power of BERT's encoder block comes from stacking multiple encoder layers together. Each layer outputs a higher-level representation of the input tokens. With each successive layer, the model can capture more complex dependencies and refine its understanding of the input context.\n",
        "\n",
        "The **output** of the **last encoder** layer serves as a **comprehensive representation of the input sequence**, embedding both the immediate meaning and broader context of each token."
      ]
    },
    {
      "cell_type": "code",
      "execution_count": null,
      "metadata": {
        "id": "HZ8dvnc2SRnq"
      },
      "outputs": [],
      "source": [
        "class EncoderBlock(nn.Module):\n",
        "\n",
        "    def __init__(self, emb_size, n_layers, n_heads, intermediate_size, dropout=0.1, layer_norm_eps=1e-12):\n",
        "        '''\n",
        "        Args:\n",
        "            emb_size (int): The size of the input embeddings\n",
        "            n_layers (int): The number of transformer blocks\n",
        "            n_heads (int): The number of attention heads\n",
        "            intermediate_size (int): The size of the intermediate layer\n",
        "            dropout (float): The dropout probability\n",
        "            layer_norm_eps (float): The epsilon value for layer normalization\n",
        "\n",
        "        We want to create n_layers of transformer blocks\n",
        "        '''\n",
        "        super().__init__()\n",
        "\n",
        "        # TODO: initialize transformer layers, (hint: checkout nn.ModuleList)\n",
        "        self.transformer_layers = None\n",
        "\n",
        "    def forward(self, emb, att_mask):\n",
        "        '''\n",
        "        Args:\n",
        "            emb (torch.Tensor): The input embeddings with shape (B, T, C)\n",
        "            att_mask (torch.Tensor): The attention mask with shape (B, T)\n",
        "\n",
        "        Returns:\n",
        "            torch.Tensor: The output embeddings with shape (B, T, C)\n",
        "\n",
        "        Pass the input embeddings through each transformer block\n",
        "        '''\n",
        "        # TODO:\n",
        "\n",
        "        return emb"
      ]
    },
    {
      "cell_type": "markdown",
      "metadata": {
        "id": "t1LvUWZrSRnq"
      },
      "source": [
        "Hang on tight, we're almost there! We have successfully implemented the BERT Encoder architecture, but now we have to tailor the model to a clasification task like sentiment analysis.\n",
        "\n",
        "The output from the encoder is a matrix where each row represents an enriched vector representation for the corresponding input token, capturing contextual and positional information through the self-attention and feed-forward layers. However, for sequence classification tasks, a single vector representation summarizing the meaning of the entire input sequence is required, rather than individual token representations. To achieve this, we will only process the representation of the `[CLS]` token (always inserted at the start of our input sequence), as it is expected to contain a contextualized, high-level representation of the entire sequence and therefore is a good candidate to be pooled for sequence classification."
      ]
    },
    {
      "cell_type": "markdown",
      "metadata": {
        "id": "NwEDRVT-SRnq"
      },
      "source": [
        "## Pooler\n",
        "\n",
        "The pooler component in BERT takes the output of the final encoder layer and transforms it to create a fixed-size output vector. Typically, it processes the output corresponding to the [CLS] token, which is the first token in the sequence. This token is specially designed to hold the aggregate representation of the input sequence after passing through the transformer blocks.\n",
        "\n",
        "### Why Pooler\n",
        "\n",
        "The main purpose of the pooler is to condense the complex and variable-length output of the encoder into a fixed-size embedding that can be used efficiently by downstream tasks, such as classification layers. For tasks like sentence classification, the model needs a singular representation of the entire input, which the pooler provides by transforming the [CLS] token's final hidden state.\n"
      ]
    },
    {
      "cell_type": "markdown",
      "metadata": {
        "id": "j0DjTzN2SRnr"
      },
      "source": [
        "### Your Turn\n",
        "\n",
        "Pooler involves 3 steps:\n",
        "1. Extract the hidden state corresponding to the [CLS] token.\n",
        "2. Apply a linear transformation to this hidden state: embedding_size -> embedding_size.\n",
        "3. Apply a non-linear activation function (like Tanh)"
      ]
    },
    {
      "cell_type": "code",
      "execution_count": null,
      "metadata": {
        "id": "0Qbd6wCZSRnr"
      },
      "outputs": [],
      "source": [
        "class Pooler(nn.Module):\n",
        "    def __init__(self, emb_size):\n",
        "        '''\n",
        "        Args:\n",
        "            emb_size (int): The size of the input embeddings\n",
        "        '''\n",
        "        super().__init__()\n",
        "\n",
        "        # TODO: Define the linear layer and activation function\n",
        "        self.dense = None\n",
        "        self.activation = None\n",
        "\n",
        "    def forward(self, encoder_out):\n",
        "        '''\n",
        "        Args:\n",
        "            encoder_out (torch.Tensor): The output embeddings from the encoder with shape (B, T, C)\n",
        "\n",
        "        Returns:\n",
        "            torch.Tensor: The pooled embeddings with shape (B, C)\n",
        "        '''\n",
        "\n",
        "        # TODO: 1. extract the first token's embeddings\n",
        "        # TODO: 2. apply the linear layer and activation function\n",
        "\n",
        "        return out"
      ]
    },
    {
      "cell_type": "markdown",
      "metadata": {
        "id": "oSGTXotNSRnr"
      },
      "source": [
        "## Final Simplified BERT Classifier\n",
        "\n",
        "Now that we have the pooler component, we can add a classification layer on top of it to predict the sentiment of the input text. This classification layer will be a simple linear layer that takes the pooled output from the pooler and maps it to `n_classes` output units."
      ]
    },
    {
      "cell_type": "markdown",
      "metadata": {
        "id": "VyIvP0bYSRnr"
      },
      "source": [
        "### Your Turn"
      ]
    },
    {
      "cell_type": "code",
      "execution_count": null,
      "metadata": {
        "id": "2HJ_o8QTSRnr"
      },
      "outputs": [],
      "source": [
        "class SimplifiedBertClassifier(nn.Module):\n",
        "    def __init__(self, vocab_size, emb_size, n_layers, n_heads, intermediate_size, dropout=0.1, n_classes=2):\n",
        "        '''\n",
        "        Args:\n",
        "            vocab_size (int): The size of the vocabulary\n",
        "            emb_size (int): The size of the input embeddings\n",
        "            n_layers (int): The number of transformer blocks\n",
        "            n_heads (int): The number of attention heads\n",
        "            intermediate_size (int): The size of the intermediate layer\n",
        "            dropout (float): The dropout probability\n",
        "            n_classes (int): The number of classes\n",
        "        '''\n",
        "        super().__init__()\n",
        "\n",
        "        # TODO: Initialization\n",
        "        self.embedding = None\n",
        "        self.encoder = None\n",
        "        self.pooler = None\n",
        "        self.dropout = None\n",
        "        self.classifier = None\n",
        "\n",
        "    def forward(self, input_ids, attention_mask=None):\n",
        "        '''\n",
        "        Args:\n",
        "            input_ids (torch.Tensor): The input token IDs with shape (B, T)\n",
        "            attention_mask (torch.Tensor): The attention mask with shape (B, T)\n",
        "\n",
        "        Returns:\n",
        "            torch.Tensor: The logits with shape (B, n_classes)\n",
        "\n",
        "        1. Pass the input token IDs through the embedding layer, encoder, pooler\n",
        "        2. Apply dropout\n",
        "        3. Pass the output through the classifier\n",
        "        '''\n",
        "\n",
        "        # TODO:\n",
        "\n",
        "        return logits"
      ]
    },
    {
      "cell_type": "markdown",
      "metadata": {
        "id": "pmI4UyZ7SRns"
      },
      "source": [
        "We have successfully implemented our own transformer-based classifier for sentiment analysis! Let's train it and see how it compares to the pre-trained one."
      ]
    },
    {
      "cell_type": "code",
      "execution_count": null,
      "metadata": {
        "id": "AJnXyrZSSRnt"
      },
      "outputs": [],
      "source": [
        "our_model = SimplifiedBertClassifier(vocab_size=VOCAB_SIZE, emb_size=EMB_SIZE, n_layers=N_LAYERS,\n",
        "                                     n_heads=N_HEADS, intermediate_size=INTERMEDIATE_SIZE, dropout=DROPOUT, n_classes=N_CLASSES)\n",
        "\n",
        "optimizer = torch.optim.AdamW(our_model.parameters(), lr=2e-5)\n",
        "criterion = nn.CrossEntropyLoss()\n",
        "\n",
        "loss_history, acc_history = train(our_model, train_loader, test_loader, optimizer, criterion, device, num_epochs=3, finetuning=False)\n"
      ]
    },
    {
      "cell_type": "code",
      "execution_count": null,
      "metadata": {
        "id": "90zX_aJUSRnt"
      },
      "outputs": [],
      "source": [
        "plt.plot(loss_history)\n",
        "plt.xlabel('Iterations')\n",
        "plt.ylabel('Cross-entropy Loss')\n",
        "plt.title('BERT From Scratch, Loss history')\n",
        "plt.show()"
      ]
    },
    {
      "cell_type": "code",
      "execution_count": null,
      "metadata": {
        "id": "s_VyF-4ySRnt"
      },
      "outputs": [],
      "source": [
        "plt.plot(acc_history)\n",
        "plt.xlabel('Epochs')\n",
        "plt.ylabel('Test accuracy')\n",
        "plt.title('BERT From Scratch, Accuracy history')\n",
        "plt.show()"
      ]
    }
  ],
  "metadata": {
    "kernelspec": {
      "display_name": "Python (ml)",
      "language": "python",
      "name": "ml"
    },
    "language_info": {
      "codemirror_mode": {
        "name": "ipython",
        "version": 3
      },
      "file_extension": ".py",
      "mimetype": "text/x-python",
      "name": "python",
      "nbconvert_exporter": "python",
      "pygments_lexer": "ipython3",
      "version": "3.12.2"
    },
    "colab": {
      "provenance": [],
      "gpuType": "T4"
    },
    "accelerator": "GPU",
    "widgets": {
      "application/vnd.jupyter.widget-state+json": {
        "12724f8ef2324f36845cd9683166706a": {
          "model_module": "@jupyter-widgets/controls",
          "model_name": "HBoxModel",
          "model_module_version": "1.5.0",
          "state": {
            "_dom_classes": [],
            "_model_module": "@jupyter-widgets/controls",
            "_model_module_version": "1.5.0",
            "_model_name": "HBoxModel",
            "_view_count": null,
            "_view_module": "@jupyter-widgets/controls",
            "_view_module_version": "1.5.0",
            "_view_name": "HBoxView",
            "box_style": "",
            "children": [
              "IPY_MODEL_26a81fd53d054f25b2234f073802468d",
              "IPY_MODEL_3cf8ed81ec1c4eceb863f38782498bcf",
              "IPY_MODEL_1918ee1660914ae6b0a2c43eb9fcf4bb"
            ],
            "layout": "IPY_MODEL_74c80444f56345beacb0b5ab7c9293c7"
          }
        },
        "26a81fd53d054f25b2234f073802468d": {
          "model_module": "@jupyter-widgets/controls",
          "model_name": "HTMLModel",
          "model_module_version": "1.5.0",
          "state": {
            "_dom_classes": [],
            "_model_module": "@jupyter-widgets/controls",
            "_model_module_version": "1.5.0",
            "_model_name": "HTMLModel",
            "_view_count": null,
            "_view_module": "@jupyter-widgets/controls",
            "_view_module_version": "1.5.0",
            "_view_name": "HTMLView",
            "description": "",
            "description_tooltip": null,
            "layout": "IPY_MODEL_c1a30b6bce784ada930257ef3c719afc",
            "placeholder": "​",
            "style": "IPY_MODEL_a2fee76c6fe24f828408f8756ffd0981",
            "value": "tokenizer_config.json: 100%"
          }
        },
        "3cf8ed81ec1c4eceb863f38782498bcf": {
          "model_module": "@jupyter-widgets/controls",
          "model_name": "FloatProgressModel",
          "model_module_version": "1.5.0",
          "state": {
            "_dom_classes": [],
            "_model_module": "@jupyter-widgets/controls",
            "_model_module_version": "1.5.0",
            "_model_name": "FloatProgressModel",
            "_view_count": null,
            "_view_module": "@jupyter-widgets/controls",
            "_view_module_version": "1.5.0",
            "_view_name": "ProgressView",
            "bar_style": "success",
            "description": "",
            "description_tooltip": null,
            "layout": "IPY_MODEL_7adf82890b354cf9ae7b94f1002fb5f9",
            "max": 48,
            "min": 0,
            "orientation": "horizontal",
            "style": "IPY_MODEL_ea8158c235584c54b3d6c5f7e997787b",
            "value": 48
          }
        },
        "1918ee1660914ae6b0a2c43eb9fcf4bb": {
          "model_module": "@jupyter-widgets/controls",
          "model_name": "HTMLModel",
          "model_module_version": "1.5.0",
          "state": {
            "_dom_classes": [],
            "_model_module": "@jupyter-widgets/controls",
            "_model_module_version": "1.5.0",
            "_model_name": "HTMLModel",
            "_view_count": null,
            "_view_module": "@jupyter-widgets/controls",
            "_view_module_version": "1.5.0",
            "_view_name": "HTMLView",
            "description": "",
            "description_tooltip": null,
            "layout": "IPY_MODEL_005c826ca0a04d60ae84d02e1bd01f62",
            "placeholder": "​",
            "style": "IPY_MODEL_1988ae776277412580ac944157b9d92c",
            "value": " 48.0/48.0 [00:00&lt;00:00, 2.62kB/s]"
          }
        },
        "74c80444f56345beacb0b5ab7c9293c7": {
          "model_module": "@jupyter-widgets/base",
          "model_name": "LayoutModel",
          "model_module_version": "1.2.0",
          "state": {
            "_model_module": "@jupyter-widgets/base",
            "_model_module_version": "1.2.0",
            "_model_name": "LayoutModel",
            "_view_count": null,
            "_view_module": "@jupyter-widgets/base",
            "_view_module_version": "1.2.0",
            "_view_name": "LayoutView",
            "align_content": null,
            "align_items": null,
            "align_self": null,
            "border": null,
            "bottom": null,
            "display": null,
            "flex": null,
            "flex_flow": null,
            "grid_area": null,
            "grid_auto_columns": null,
            "grid_auto_flow": null,
            "grid_auto_rows": null,
            "grid_column": null,
            "grid_gap": null,
            "grid_row": null,
            "grid_template_areas": null,
            "grid_template_columns": null,
            "grid_template_rows": null,
            "height": null,
            "justify_content": null,
            "justify_items": null,
            "left": null,
            "margin": null,
            "max_height": null,
            "max_width": null,
            "min_height": null,
            "min_width": null,
            "object_fit": null,
            "object_position": null,
            "order": null,
            "overflow": null,
            "overflow_x": null,
            "overflow_y": null,
            "padding": null,
            "right": null,
            "top": null,
            "visibility": null,
            "width": null
          }
        },
        "c1a30b6bce784ada930257ef3c719afc": {
          "model_module": "@jupyter-widgets/base",
          "model_name": "LayoutModel",
          "model_module_version": "1.2.0",
          "state": {
            "_model_module": "@jupyter-widgets/base",
            "_model_module_version": "1.2.0",
            "_model_name": "LayoutModel",
            "_view_count": null,
            "_view_module": "@jupyter-widgets/base",
            "_view_module_version": "1.2.0",
            "_view_name": "LayoutView",
            "align_content": null,
            "align_items": null,
            "align_self": null,
            "border": null,
            "bottom": null,
            "display": null,
            "flex": null,
            "flex_flow": null,
            "grid_area": null,
            "grid_auto_columns": null,
            "grid_auto_flow": null,
            "grid_auto_rows": null,
            "grid_column": null,
            "grid_gap": null,
            "grid_row": null,
            "grid_template_areas": null,
            "grid_template_columns": null,
            "grid_template_rows": null,
            "height": null,
            "justify_content": null,
            "justify_items": null,
            "left": null,
            "margin": null,
            "max_height": null,
            "max_width": null,
            "min_height": null,
            "min_width": null,
            "object_fit": null,
            "object_position": null,
            "order": null,
            "overflow": null,
            "overflow_x": null,
            "overflow_y": null,
            "padding": null,
            "right": null,
            "top": null,
            "visibility": null,
            "width": null
          }
        },
        "a2fee76c6fe24f828408f8756ffd0981": {
          "model_module": "@jupyter-widgets/controls",
          "model_name": "DescriptionStyleModel",
          "model_module_version": "1.5.0",
          "state": {
            "_model_module": "@jupyter-widgets/controls",
            "_model_module_version": "1.5.0",
            "_model_name": "DescriptionStyleModel",
            "_view_count": null,
            "_view_module": "@jupyter-widgets/base",
            "_view_module_version": "1.2.0",
            "_view_name": "StyleView",
            "description_width": ""
          }
        },
        "7adf82890b354cf9ae7b94f1002fb5f9": {
          "model_module": "@jupyter-widgets/base",
          "model_name": "LayoutModel",
          "model_module_version": "1.2.0",
          "state": {
            "_model_module": "@jupyter-widgets/base",
            "_model_module_version": "1.2.0",
            "_model_name": "LayoutModel",
            "_view_count": null,
            "_view_module": "@jupyter-widgets/base",
            "_view_module_version": "1.2.0",
            "_view_name": "LayoutView",
            "align_content": null,
            "align_items": null,
            "align_self": null,
            "border": null,
            "bottom": null,
            "display": null,
            "flex": null,
            "flex_flow": null,
            "grid_area": null,
            "grid_auto_columns": null,
            "grid_auto_flow": null,
            "grid_auto_rows": null,
            "grid_column": null,
            "grid_gap": null,
            "grid_row": null,
            "grid_template_areas": null,
            "grid_template_columns": null,
            "grid_template_rows": null,
            "height": null,
            "justify_content": null,
            "justify_items": null,
            "left": null,
            "margin": null,
            "max_height": null,
            "max_width": null,
            "min_height": null,
            "min_width": null,
            "object_fit": null,
            "object_position": null,
            "order": null,
            "overflow": null,
            "overflow_x": null,
            "overflow_y": null,
            "padding": null,
            "right": null,
            "top": null,
            "visibility": null,
            "width": null
          }
        },
        "ea8158c235584c54b3d6c5f7e997787b": {
          "model_module": "@jupyter-widgets/controls",
          "model_name": "ProgressStyleModel",
          "model_module_version": "1.5.0",
          "state": {
            "_model_module": "@jupyter-widgets/controls",
            "_model_module_version": "1.5.0",
            "_model_name": "ProgressStyleModel",
            "_view_count": null,
            "_view_module": "@jupyter-widgets/base",
            "_view_module_version": "1.2.0",
            "_view_name": "StyleView",
            "bar_color": null,
            "description_width": ""
          }
        },
        "005c826ca0a04d60ae84d02e1bd01f62": {
          "model_module": "@jupyter-widgets/base",
          "model_name": "LayoutModel",
          "model_module_version": "1.2.0",
          "state": {
            "_model_module": "@jupyter-widgets/base",
            "_model_module_version": "1.2.0",
            "_model_name": "LayoutModel",
            "_view_count": null,
            "_view_module": "@jupyter-widgets/base",
            "_view_module_version": "1.2.0",
            "_view_name": "LayoutView",
            "align_content": null,
            "align_items": null,
            "align_self": null,
            "border": null,
            "bottom": null,
            "display": null,
            "flex": null,
            "flex_flow": null,
            "grid_area": null,
            "grid_auto_columns": null,
            "grid_auto_flow": null,
            "grid_auto_rows": null,
            "grid_column": null,
            "grid_gap": null,
            "grid_row": null,
            "grid_template_areas": null,
            "grid_template_columns": null,
            "grid_template_rows": null,
            "height": null,
            "justify_content": null,
            "justify_items": null,
            "left": null,
            "margin": null,
            "max_height": null,
            "max_width": null,
            "min_height": null,
            "min_width": null,
            "object_fit": null,
            "object_position": null,
            "order": null,
            "overflow": null,
            "overflow_x": null,
            "overflow_y": null,
            "padding": null,
            "right": null,
            "top": null,
            "visibility": null,
            "width": null
          }
        },
        "1988ae776277412580ac944157b9d92c": {
          "model_module": "@jupyter-widgets/controls",
          "model_name": "DescriptionStyleModel",
          "model_module_version": "1.5.0",
          "state": {
            "_model_module": "@jupyter-widgets/controls",
            "_model_module_version": "1.5.0",
            "_model_name": "DescriptionStyleModel",
            "_view_count": null,
            "_view_module": "@jupyter-widgets/base",
            "_view_module_version": "1.2.0",
            "_view_name": "StyleView",
            "description_width": ""
          }
        },
        "f9e670b4c78e4325ba4b83ef65fc9ea9": {
          "model_module": "@jupyter-widgets/controls",
          "model_name": "HBoxModel",
          "model_module_version": "1.5.0",
          "state": {
            "_dom_classes": [],
            "_model_module": "@jupyter-widgets/controls",
            "_model_module_version": "1.5.0",
            "_model_name": "HBoxModel",
            "_view_count": null,
            "_view_module": "@jupyter-widgets/controls",
            "_view_module_version": "1.5.0",
            "_view_name": "HBoxView",
            "box_style": "",
            "children": [
              "IPY_MODEL_c4d892a8017d437bb060f5fbe356e501",
              "IPY_MODEL_a3ce2398bfa84607acf9278eb41489e2",
              "IPY_MODEL_92572913044c4ff189ac4740737920d0"
            ],
            "layout": "IPY_MODEL_e998cfa718094123996961389bea5391"
          }
        },
        "c4d892a8017d437bb060f5fbe356e501": {
          "model_module": "@jupyter-widgets/controls",
          "model_name": "HTMLModel",
          "model_module_version": "1.5.0",
          "state": {
            "_dom_classes": [],
            "_model_module": "@jupyter-widgets/controls",
            "_model_module_version": "1.5.0",
            "_model_name": "HTMLModel",
            "_view_count": null,
            "_view_module": "@jupyter-widgets/controls",
            "_view_module_version": "1.5.0",
            "_view_name": "HTMLView",
            "description": "",
            "description_tooltip": null,
            "layout": "IPY_MODEL_a4bbeccc3fcc47e680803b64d4b8c5ba",
            "placeholder": "​",
            "style": "IPY_MODEL_dc1aa89e3e6d4093a964b117034bfb20",
            "value": "vocab.txt: 100%"
          }
        },
        "a3ce2398bfa84607acf9278eb41489e2": {
          "model_module": "@jupyter-widgets/controls",
          "model_name": "FloatProgressModel",
          "model_module_version": "1.5.0",
          "state": {
            "_dom_classes": [],
            "_model_module": "@jupyter-widgets/controls",
            "_model_module_version": "1.5.0",
            "_model_name": "FloatProgressModel",
            "_view_count": null,
            "_view_module": "@jupyter-widgets/controls",
            "_view_module_version": "1.5.0",
            "_view_name": "ProgressView",
            "bar_style": "success",
            "description": "",
            "description_tooltip": null,
            "layout": "IPY_MODEL_fa33ba7d52334b4d95957d8b3fc416c6",
            "max": 231508,
            "min": 0,
            "orientation": "horizontal",
            "style": "IPY_MODEL_a9f07e9eee9749aebcbca2d19fc6badc",
            "value": 231508
          }
        },
        "92572913044c4ff189ac4740737920d0": {
          "model_module": "@jupyter-widgets/controls",
          "model_name": "HTMLModel",
          "model_module_version": "1.5.0",
          "state": {
            "_dom_classes": [],
            "_model_module": "@jupyter-widgets/controls",
            "_model_module_version": "1.5.0",
            "_model_name": "HTMLModel",
            "_view_count": null,
            "_view_module": "@jupyter-widgets/controls",
            "_view_module_version": "1.5.0",
            "_view_name": "HTMLView",
            "description": "",
            "description_tooltip": null,
            "layout": "IPY_MODEL_9324a9a46ee442df9d1abca90c2062e2",
            "placeholder": "​",
            "style": "IPY_MODEL_cb41d18d3dbb47b88d35cb832ed9317a",
            "value": " 232k/232k [00:00&lt;00:00, 5.05MB/s]"
          }
        },
        "e998cfa718094123996961389bea5391": {
          "model_module": "@jupyter-widgets/base",
          "model_name": "LayoutModel",
          "model_module_version": "1.2.0",
          "state": {
            "_model_module": "@jupyter-widgets/base",
            "_model_module_version": "1.2.0",
            "_model_name": "LayoutModel",
            "_view_count": null,
            "_view_module": "@jupyter-widgets/base",
            "_view_module_version": "1.2.0",
            "_view_name": "LayoutView",
            "align_content": null,
            "align_items": null,
            "align_self": null,
            "border": null,
            "bottom": null,
            "display": null,
            "flex": null,
            "flex_flow": null,
            "grid_area": null,
            "grid_auto_columns": null,
            "grid_auto_flow": null,
            "grid_auto_rows": null,
            "grid_column": null,
            "grid_gap": null,
            "grid_row": null,
            "grid_template_areas": null,
            "grid_template_columns": null,
            "grid_template_rows": null,
            "height": null,
            "justify_content": null,
            "justify_items": null,
            "left": null,
            "margin": null,
            "max_height": null,
            "max_width": null,
            "min_height": null,
            "min_width": null,
            "object_fit": null,
            "object_position": null,
            "order": null,
            "overflow": null,
            "overflow_x": null,
            "overflow_y": null,
            "padding": null,
            "right": null,
            "top": null,
            "visibility": null,
            "width": null
          }
        },
        "a4bbeccc3fcc47e680803b64d4b8c5ba": {
          "model_module": "@jupyter-widgets/base",
          "model_name": "LayoutModel",
          "model_module_version": "1.2.0",
          "state": {
            "_model_module": "@jupyter-widgets/base",
            "_model_module_version": "1.2.0",
            "_model_name": "LayoutModel",
            "_view_count": null,
            "_view_module": "@jupyter-widgets/base",
            "_view_module_version": "1.2.0",
            "_view_name": "LayoutView",
            "align_content": null,
            "align_items": null,
            "align_self": null,
            "border": null,
            "bottom": null,
            "display": null,
            "flex": null,
            "flex_flow": null,
            "grid_area": null,
            "grid_auto_columns": null,
            "grid_auto_flow": null,
            "grid_auto_rows": null,
            "grid_column": null,
            "grid_gap": null,
            "grid_row": null,
            "grid_template_areas": null,
            "grid_template_columns": null,
            "grid_template_rows": null,
            "height": null,
            "justify_content": null,
            "justify_items": null,
            "left": null,
            "margin": null,
            "max_height": null,
            "max_width": null,
            "min_height": null,
            "min_width": null,
            "object_fit": null,
            "object_position": null,
            "order": null,
            "overflow": null,
            "overflow_x": null,
            "overflow_y": null,
            "padding": null,
            "right": null,
            "top": null,
            "visibility": null,
            "width": null
          }
        },
        "dc1aa89e3e6d4093a964b117034bfb20": {
          "model_module": "@jupyter-widgets/controls",
          "model_name": "DescriptionStyleModel",
          "model_module_version": "1.5.0",
          "state": {
            "_model_module": "@jupyter-widgets/controls",
            "_model_module_version": "1.5.0",
            "_model_name": "DescriptionStyleModel",
            "_view_count": null,
            "_view_module": "@jupyter-widgets/base",
            "_view_module_version": "1.2.0",
            "_view_name": "StyleView",
            "description_width": ""
          }
        },
        "fa33ba7d52334b4d95957d8b3fc416c6": {
          "model_module": "@jupyter-widgets/base",
          "model_name": "LayoutModel",
          "model_module_version": "1.2.0",
          "state": {
            "_model_module": "@jupyter-widgets/base",
            "_model_module_version": "1.2.0",
            "_model_name": "LayoutModel",
            "_view_count": null,
            "_view_module": "@jupyter-widgets/base",
            "_view_module_version": "1.2.0",
            "_view_name": "LayoutView",
            "align_content": null,
            "align_items": null,
            "align_self": null,
            "border": null,
            "bottom": null,
            "display": null,
            "flex": null,
            "flex_flow": null,
            "grid_area": null,
            "grid_auto_columns": null,
            "grid_auto_flow": null,
            "grid_auto_rows": null,
            "grid_column": null,
            "grid_gap": null,
            "grid_row": null,
            "grid_template_areas": null,
            "grid_template_columns": null,
            "grid_template_rows": null,
            "height": null,
            "justify_content": null,
            "justify_items": null,
            "left": null,
            "margin": null,
            "max_height": null,
            "max_width": null,
            "min_height": null,
            "min_width": null,
            "object_fit": null,
            "object_position": null,
            "order": null,
            "overflow": null,
            "overflow_x": null,
            "overflow_y": null,
            "padding": null,
            "right": null,
            "top": null,
            "visibility": null,
            "width": null
          }
        },
        "a9f07e9eee9749aebcbca2d19fc6badc": {
          "model_module": "@jupyter-widgets/controls",
          "model_name": "ProgressStyleModel",
          "model_module_version": "1.5.0",
          "state": {
            "_model_module": "@jupyter-widgets/controls",
            "_model_module_version": "1.5.0",
            "_model_name": "ProgressStyleModel",
            "_view_count": null,
            "_view_module": "@jupyter-widgets/base",
            "_view_module_version": "1.2.0",
            "_view_name": "StyleView",
            "bar_color": null,
            "description_width": ""
          }
        },
        "9324a9a46ee442df9d1abca90c2062e2": {
          "model_module": "@jupyter-widgets/base",
          "model_name": "LayoutModel",
          "model_module_version": "1.2.0",
          "state": {
            "_model_module": "@jupyter-widgets/base",
            "_model_module_version": "1.2.0",
            "_model_name": "LayoutModel",
            "_view_count": null,
            "_view_module": "@jupyter-widgets/base",
            "_view_module_version": "1.2.0",
            "_view_name": "LayoutView",
            "align_content": null,
            "align_items": null,
            "align_self": null,
            "border": null,
            "bottom": null,
            "display": null,
            "flex": null,
            "flex_flow": null,
            "grid_area": null,
            "grid_auto_columns": null,
            "grid_auto_flow": null,
            "grid_auto_rows": null,
            "grid_column": null,
            "grid_gap": null,
            "grid_row": null,
            "grid_template_areas": null,
            "grid_template_columns": null,
            "grid_template_rows": null,
            "height": null,
            "justify_content": null,
            "justify_items": null,
            "left": null,
            "margin": null,
            "max_height": null,
            "max_width": null,
            "min_height": null,
            "min_width": null,
            "object_fit": null,
            "object_position": null,
            "order": null,
            "overflow": null,
            "overflow_x": null,
            "overflow_y": null,
            "padding": null,
            "right": null,
            "top": null,
            "visibility": null,
            "width": null
          }
        },
        "cb41d18d3dbb47b88d35cb832ed9317a": {
          "model_module": "@jupyter-widgets/controls",
          "model_name": "DescriptionStyleModel",
          "model_module_version": "1.5.0",
          "state": {
            "_model_module": "@jupyter-widgets/controls",
            "_model_module_version": "1.5.0",
            "_model_name": "DescriptionStyleModel",
            "_view_count": null,
            "_view_module": "@jupyter-widgets/base",
            "_view_module_version": "1.2.0",
            "_view_name": "StyleView",
            "description_width": ""
          }
        },
        "dcd01fb364ae4e6fb094effcfd1c9ad5": {
          "model_module": "@jupyter-widgets/controls",
          "model_name": "HBoxModel",
          "model_module_version": "1.5.0",
          "state": {
            "_dom_classes": [],
            "_model_module": "@jupyter-widgets/controls",
            "_model_module_version": "1.5.0",
            "_model_name": "HBoxModel",
            "_view_count": null,
            "_view_module": "@jupyter-widgets/controls",
            "_view_module_version": "1.5.0",
            "_view_name": "HBoxView",
            "box_style": "",
            "children": [
              "IPY_MODEL_ebe17669b526405db825af37b570b336",
              "IPY_MODEL_58b92c1653244ac0a376c93131047a05",
              "IPY_MODEL_27f46ab3bec74f23846e2a5b6fb6d350"
            ],
            "layout": "IPY_MODEL_0aefd03d17894a7eaf8656831a1db178"
          }
        },
        "ebe17669b526405db825af37b570b336": {
          "model_module": "@jupyter-widgets/controls",
          "model_name": "HTMLModel",
          "model_module_version": "1.5.0",
          "state": {
            "_dom_classes": [],
            "_model_module": "@jupyter-widgets/controls",
            "_model_module_version": "1.5.0",
            "_model_name": "HTMLModel",
            "_view_count": null,
            "_view_module": "@jupyter-widgets/controls",
            "_view_module_version": "1.5.0",
            "_view_name": "HTMLView",
            "description": "",
            "description_tooltip": null,
            "layout": "IPY_MODEL_fe210dc369644a96ba963c9a78269d6e",
            "placeholder": "​",
            "style": "IPY_MODEL_77040eafe5bf41aa9f0351bbfd2aa5d5",
            "value": "tokenizer.json: 100%"
          }
        },
        "58b92c1653244ac0a376c93131047a05": {
          "model_module": "@jupyter-widgets/controls",
          "model_name": "FloatProgressModel",
          "model_module_version": "1.5.0",
          "state": {
            "_dom_classes": [],
            "_model_module": "@jupyter-widgets/controls",
            "_model_module_version": "1.5.0",
            "_model_name": "FloatProgressModel",
            "_view_count": null,
            "_view_module": "@jupyter-widgets/controls",
            "_view_module_version": "1.5.0",
            "_view_name": "ProgressView",
            "bar_style": "success",
            "description": "",
            "description_tooltip": null,
            "layout": "IPY_MODEL_79c5cbabed5248f2863083e3b97707c9",
            "max": 466062,
            "min": 0,
            "orientation": "horizontal",
            "style": "IPY_MODEL_981da1432c0d414abe838012351420cb",
            "value": 466062
          }
        },
        "27f46ab3bec74f23846e2a5b6fb6d350": {
          "model_module": "@jupyter-widgets/controls",
          "model_name": "HTMLModel",
          "model_module_version": "1.5.0",
          "state": {
            "_dom_classes": [],
            "_model_module": "@jupyter-widgets/controls",
            "_model_module_version": "1.5.0",
            "_model_name": "HTMLModel",
            "_view_count": null,
            "_view_module": "@jupyter-widgets/controls",
            "_view_module_version": "1.5.0",
            "_view_name": "HTMLView",
            "description": "",
            "description_tooltip": null,
            "layout": "IPY_MODEL_2f241d7185c047a1b6f84bc3180cdae9",
            "placeholder": "​",
            "style": "IPY_MODEL_e13bf90a241841309162d299e779ff98",
            "value": " 466k/466k [00:00&lt;00:00, 2.64MB/s]"
          }
        },
        "0aefd03d17894a7eaf8656831a1db178": {
          "model_module": "@jupyter-widgets/base",
          "model_name": "LayoutModel",
          "model_module_version": "1.2.0",
          "state": {
            "_model_module": "@jupyter-widgets/base",
            "_model_module_version": "1.2.0",
            "_model_name": "LayoutModel",
            "_view_count": null,
            "_view_module": "@jupyter-widgets/base",
            "_view_module_version": "1.2.0",
            "_view_name": "LayoutView",
            "align_content": null,
            "align_items": null,
            "align_self": null,
            "border": null,
            "bottom": null,
            "display": null,
            "flex": null,
            "flex_flow": null,
            "grid_area": null,
            "grid_auto_columns": null,
            "grid_auto_flow": null,
            "grid_auto_rows": null,
            "grid_column": null,
            "grid_gap": null,
            "grid_row": null,
            "grid_template_areas": null,
            "grid_template_columns": null,
            "grid_template_rows": null,
            "height": null,
            "justify_content": null,
            "justify_items": null,
            "left": null,
            "margin": null,
            "max_height": null,
            "max_width": null,
            "min_height": null,
            "min_width": null,
            "object_fit": null,
            "object_position": null,
            "order": null,
            "overflow": null,
            "overflow_x": null,
            "overflow_y": null,
            "padding": null,
            "right": null,
            "top": null,
            "visibility": null,
            "width": null
          }
        },
        "fe210dc369644a96ba963c9a78269d6e": {
          "model_module": "@jupyter-widgets/base",
          "model_name": "LayoutModel",
          "model_module_version": "1.2.0",
          "state": {
            "_model_module": "@jupyter-widgets/base",
            "_model_module_version": "1.2.0",
            "_model_name": "LayoutModel",
            "_view_count": null,
            "_view_module": "@jupyter-widgets/base",
            "_view_module_version": "1.2.0",
            "_view_name": "LayoutView",
            "align_content": null,
            "align_items": null,
            "align_self": null,
            "border": null,
            "bottom": null,
            "display": null,
            "flex": null,
            "flex_flow": null,
            "grid_area": null,
            "grid_auto_columns": null,
            "grid_auto_flow": null,
            "grid_auto_rows": null,
            "grid_column": null,
            "grid_gap": null,
            "grid_row": null,
            "grid_template_areas": null,
            "grid_template_columns": null,
            "grid_template_rows": null,
            "height": null,
            "justify_content": null,
            "justify_items": null,
            "left": null,
            "margin": null,
            "max_height": null,
            "max_width": null,
            "min_height": null,
            "min_width": null,
            "object_fit": null,
            "object_position": null,
            "order": null,
            "overflow": null,
            "overflow_x": null,
            "overflow_y": null,
            "padding": null,
            "right": null,
            "top": null,
            "visibility": null,
            "width": null
          }
        },
        "77040eafe5bf41aa9f0351bbfd2aa5d5": {
          "model_module": "@jupyter-widgets/controls",
          "model_name": "DescriptionStyleModel",
          "model_module_version": "1.5.0",
          "state": {
            "_model_module": "@jupyter-widgets/controls",
            "_model_module_version": "1.5.0",
            "_model_name": "DescriptionStyleModel",
            "_view_count": null,
            "_view_module": "@jupyter-widgets/base",
            "_view_module_version": "1.2.0",
            "_view_name": "StyleView",
            "description_width": ""
          }
        },
        "79c5cbabed5248f2863083e3b97707c9": {
          "model_module": "@jupyter-widgets/base",
          "model_name": "LayoutModel",
          "model_module_version": "1.2.0",
          "state": {
            "_model_module": "@jupyter-widgets/base",
            "_model_module_version": "1.2.0",
            "_model_name": "LayoutModel",
            "_view_count": null,
            "_view_module": "@jupyter-widgets/base",
            "_view_module_version": "1.2.0",
            "_view_name": "LayoutView",
            "align_content": null,
            "align_items": null,
            "align_self": null,
            "border": null,
            "bottom": null,
            "display": null,
            "flex": null,
            "flex_flow": null,
            "grid_area": null,
            "grid_auto_columns": null,
            "grid_auto_flow": null,
            "grid_auto_rows": null,
            "grid_column": null,
            "grid_gap": null,
            "grid_row": null,
            "grid_template_areas": null,
            "grid_template_columns": null,
            "grid_template_rows": null,
            "height": null,
            "justify_content": null,
            "justify_items": null,
            "left": null,
            "margin": null,
            "max_height": null,
            "max_width": null,
            "min_height": null,
            "min_width": null,
            "object_fit": null,
            "object_position": null,
            "order": null,
            "overflow": null,
            "overflow_x": null,
            "overflow_y": null,
            "padding": null,
            "right": null,
            "top": null,
            "visibility": null,
            "width": null
          }
        },
        "981da1432c0d414abe838012351420cb": {
          "model_module": "@jupyter-widgets/controls",
          "model_name": "ProgressStyleModel",
          "model_module_version": "1.5.0",
          "state": {
            "_model_module": "@jupyter-widgets/controls",
            "_model_module_version": "1.5.0",
            "_model_name": "ProgressStyleModel",
            "_view_count": null,
            "_view_module": "@jupyter-widgets/base",
            "_view_module_version": "1.2.0",
            "_view_name": "StyleView",
            "bar_color": null,
            "description_width": ""
          }
        },
        "2f241d7185c047a1b6f84bc3180cdae9": {
          "model_module": "@jupyter-widgets/base",
          "model_name": "LayoutModel",
          "model_module_version": "1.2.0",
          "state": {
            "_model_module": "@jupyter-widgets/base",
            "_model_module_version": "1.2.0",
            "_model_name": "LayoutModel",
            "_view_count": null,
            "_view_module": "@jupyter-widgets/base",
            "_view_module_version": "1.2.0",
            "_view_name": "LayoutView",
            "align_content": null,
            "align_items": null,
            "align_self": null,
            "border": null,
            "bottom": null,
            "display": null,
            "flex": null,
            "flex_flow": null,
            "grid_area": null,
            "grid_auto_columns": null,
            "grid_auto_flow": null,
            "grid_auto_rows": null,
            "grid_column": null,
            "grid_gap": null,
            "grid_row": null,
            "grid_template_areas": null,
            "grid_template_columns": null,
            "grid_template_rows": null,
            "height": null,
            "justify_content": null,
            "justify_items": null,
            "left": null,
            "margin": null,
            "max_height": null,
            "max_width": null,
            "min_height": null,
            "min_width": null,
            "object_fit": null,
            "object_position": null,
            "order": null,
            "overflow": null,
            "overflow_x": null,
            "overflow_y": null,
            "padding": null,
            "right": null,
            "top": null,
            "visibility": null,
            "width": null
          }
        },
        "e13bf90a241841309162d299e779ff98": {
          "model_module": "@jupyter-widgets/controls",
          "model_name": "DescriptionStyleModel",
          "model_module_version": "1.5.0",
          "state": {
            "_model_module": "@jupyter-widgets/controls",
            "_model_module_version": "1.5.0",
            "_model_name": "DescriptionStyleModel",
            "_view_count": null,
            "_view_module": "@jupyter-widgets/base",
            "_view_module_version": "1.2.0",
            "_view_name": "StyleView",
            "description_width": ""
          }
        },
        "276ec2af6548452484b9b609b37a971b": {
          "model_module": "@jupyter-widgets/controls",
          "model_name": "HBoxModel",
          "model_module_version": "1.5.0",
          "state": {
            "_dom_classes": [],
            "_model_module": "@jupyter-widgets/controls",
            "_model_module_version": "1.5.0",
            "_model_name": "HBoxModel",
            "_view_count": null,
            "_view_module": "@jupyter-widgets/controls",
            "_view_module_version": "1.5.0",
            "_view_name": "HBoxView",
            "box_style": "",
            "children": [
              "IPY_MODEL_cccb697e1d7747d5ab4f305286899103",
              "IPY_MODEL_c87e9d75f39048ec9dc9280427e48c36",
              "IPY_MODEL_ebc60e8263e847848f3ded721286faa7"
            ],
            "layout": "IPY_MODEL_5ce3ff17f2b74ef3862b81137a1f621e"
          }
        },
        "cccb697e1d7747d5ab4f305286899103": {
          "model_module": "@jupyter-widgets/controls",
          "model_name": "HTMLModel",
          "model_module_version": "1.5.0",
          "state": {
            "_dom_classes": [],
            "_model_module": "@jupyter-widgets/controls",
            "_model_module_version": "1.5.0",
            "_model_name": "HTMLModel",
            "_view_count": null,
            "_view_module": "@jupyter-widgets/controls",
            "_view_module_version": "1.5.0",
            "_view_name": "HTMLView",
            "description": "",
            "description_tooltip": null,
            "layout": "IPY_MODEL_9a8a90e3ad434682ba3eadad80da39a2",
            "placeholder": "​",
            "style": "IPY_MODEL_ad1a1b06e2ba4289bb0ded1d71d1dabf",
            "value": "config.json: 100%"
          }
        },
        "c87e9d75f39048ec9dc9280427e48c36": {
          "model_module": "@jupyter-widgets/controls",
          "model_name": "FloatProgressModel",
          "model_module_version": "1.5.0",
          "state": {
            "_dom_classes": [],
            "_model_module": "@jupyter-widgets/controls",
            "_model_module_version": "1.5.0",
            "_model_name": "FloatProgressModel",
            "_view_count": null,
            "_view_module": "@jupyter-widgets/controls",
            "_view_module_version": "1.5.0",
            "_view_name": "ProgressView",
            "bar_style": "success",
            "description": "",
            "description_tooltip": null,
            "layout": "IPY_MODEL_452812bbdcc646c08e7ac3e33c3d5ea3",
            "max": 570,
            "min": 0,
            "orientation": "horizontal",
            "style": "IPY_MODEL_afdf24308d084d65acea6b6fc1a42989",
            "value": 570
          }
        },
        "ebc60e8263e847848f3ded721286faa7": {
          "model_module": "@jupyter-widgets/controls",
          "model_name": "HTMLModel",
          "model_module_version": "1.5.0",
          "state": {
            "_dom_classes": [],
            "_model_module": "@jupyter-widgets/controls",
            "_model_module_version": "1.5.0",
            "_model_name": "HTMLModel",
            "_view_count": null,
            "_view_module": "@jupyter-widgets/controls",
            "_view_module_version": "1.5.0",
            "_view_name": "HTMLView",
            "description": "",
            "description_tooltip": null,
            "layout": "IPY_MODEL_c73caa38bd674dcaa60dd1efd9925ee4",
            "placeholder": "​",
            "style": "IPY_MODEL_10cf706443c8457bae868902c5a0cdfd",
            "value": " 570/570 [00:00&lt;00:00, 24.7kB/s]"
          }
        },
        "5ce3ff17f2b74ef3862b81137a1f621e": {
          "model_module": "@jupyter-widgets/base",
          "model_name": "LayoutModel",
          "model_module_version": "1.2.0",
          "state": {
            "_model_module": "@jupyter-widgets/base",
            "_model_module_version": "1.2.0",
            "_model_name": "LayoutModel",
            "_view_count": null,
            "_view_module": "@jupyter-widgets/base",
            "_view_module_version": "1.2.0",
            "_view_name": "LayoutView",
            "align_content": null,
            "align_items": null,
            "align_self": null,
            "border": null,
            "bottom": null,
            "display": null,
            "flex": null,
            "flex_flow": null,
            "grid_area": null,
            "grid_auto_columns": null,
            "grid_auto_flow": null,
            "grid_auto_rows": null,
            "grid_column": null,
            "grid_gap": null,
            "grid_row": null,
            "grid_template_areas": null,
            "grid_template_columns": null,
            "grid_template_rows": null,
            "height": null,
            "justify_content": null,
            "justify_items": null,
            "left": null,
            "margin": null,
            "max_height": null,
            "max_width": null,
            "min_height": null,
            "min_width": null,
            "object_fit": null,
            "object_position": null,
            "order": null,
            "overflow": null,
            "overflow_x": null,
            "overflow_y": null,
            "padding": null,
            "right": null,
            "top": null,
            "visibility": null,
            "width": null
          }
        },
        "9a8a90e3ad434682ba3eadad80da39a2": {
          "model_module": "@jupyter-widgets/base",
          "model_name": "LayoutModel",
          "model_module_version": "1.2.0",
          "state": {
            "_model_module": "@jupyter-widgets/base",
            "_model_module_version": "1.2.0",
            "_model_name": "LayoutModel",
            "_view_count": null,
            "_view_module": "@jupyter-widgets/base",
            "_view_module_version": "1.2.0",
            "_view_name": "LayoutView",
            "align_content": null,
            "align_items": null,
            "align_self": null,
            "border": null,
            "bottom": null,
            "display": null,
            "flex": null,
            "flex_flow": null,
            "grid_area": null,
            "grid_auto_columns": null,
            "grid_auto_flow": null,
            "grid_auto_rows": null,
            "grid_column": null,
            "grid_gap": null,
            "grid_row": null,
            "grid_template_areas": null,
            "grid_template_columns": null,
            "grid_template_rows": null,
            "height": null,
            "justify_content": null,
            "justify_items": null,
            "left": null,
            "margin": null,
            "max_height": null,
            "max_width": null,
            "min_height": null,
            "min_width": null,
            "object_fit": null,
            "object_position": null,
            "order": null,
            "overflow": null,
            "overflow_x": null,
            "overflow_y": null,
            "padding": null,
            "right": null,
            "top": null,
            "visibility": null,
            "width": null
          }
        },
        "ad1a1b06e2ba4289bb0ded1d71d1dabf": {
          "model_module": "@jupyter-widgets/controls",
          "model_name": "DescriptionStyleModel",
          "model_module_version": "1.5.0",
          "state": {
            "_model_module": "@jupyter-widgets/controls",
            "_model_module_version": "1.5.0",
            "_model_name": "DescriptionStyleModel",
            "_view_count": null,
            "_view_module": "@jupyter-widgets/base",
            "_view_module_version": "1.2.0",
            "_view_name": "StyleView",
            "description_width": ""
          }
        },
        "452812bbdcc646c08e7ac3e33c3d5ea3": {
          "model_module": "@jupyter-widgets/base",
          "model_name": "LayoutModel",
          "model_module_version": "1.2.0",
          "state": {
            "_model_module": "@jupyter-widgets/base",
            "_model_module_version": "1.2.0",
            "_model_name": "LayoutModel",
            "_view_count": null,
            "_view_module": "@jupyter-widgets/base",
            "_view_module_version": "1.2.0",
            "_view_name": "LayoutView",
            "align_content": null,
            "align_items": null,
            "align_self": null,
            "border": null,
            "bottom": null,
            "display": null,
            "flex": null,
            "flex_flow": null,
            "grid_area": null,
            "grid_auto_columns": null,
            "grid_auto_flow": null,
            "grid_auto_rows": null,
            "grid_column": null,
            "grid_gap": null,
            "grid_row": null,
            "grid_template_areas": null,
            "grid_template_columns": null,
            "grid_template_rows": null,
            "height": null,
            "justify_content": null,
            "justify_items": null,
            "left": null,
            "margin": null,
            "max_height": null,
            "max_width": null,
            "min_height": null,
            "min_width": null,
            "object_fit": null,
            "object_position": null,
            "order": null,
            "overflow": null,
            "overflow_x": null,
            "overflow_y": null,
            "padding": null,
            "right": null,
            "top": null,
            "visibility": null,
            "width": null
          }
        },
        "afdf24308d084d65acea6b6fc1a42989": {
          "model_module": "@jupyter-widgets/controls",
          "model_name": "ProgressStyleModel",
          "model_module_version": "1.5.0",
          "state": {
            "_model_module": "@jupyter-widgets/controls",
            "_model_module_version": "1.5.0",
            "_model_name": "ProgressStyleModel",
            "_view_count": null,
            "_view_module": "@jupyter-widgets/base",
            "_view_module_version": "1.2.0",
            "_view_name": "StyleView",
            "bar_color": null,
            "description_width": ""
          }
        },
        "c73caa38bd674dcaa60dd1efd9925ee4": {
          "model_module": "@jupyter-widgets/base",
          "model_name": "LayoutModel",
          "model_module_version": "1.2.0",
          "state": {
            "_model_module": "@jupyter-widgets/base",
            "_model_module_version": "1.2.0",
            "_model_name": "LayoutModel",
            "_view_count": null,
            "_view_module": "@jupyter-widgets/base",
            "_view_module_version": "1.2.0",
            "_view_name": "LayoutView",
            "align_content": null,
            "align_items": null,
            "align_self": null,
            "border": null,
            "bottom": null,
            "display": null,
            "flex": null,
            "flex_flow": null,
            "grid_area": null,
            "grid_auto_columns": null,
            "grid_auto_flow": null,
            "grid_auto_rows": null,
            "grid_column": null,
            "grid_gap": null,
            "grid_row": null,
            "grid_template_areas": null,
            "grid_template_columns": null,
            "grid_template_rows": null,
            "height": null,
            "justify_content": null,
            "justify_items": null,
            "left": null,
            "margin": null,
            "max_height": null,
            "max_width": null,
            "min_height": null,
            "min_width": null,
            "object_fit": null,
            "object_position": null,
            "order": null,
            "overflow": null,
            "overflow_x": null,
            "overflow_y": null,
            "padding": null,
            "right": null,
            "top": null,
            "visibility": null,
            "width": null
          }
        },
        "10cf706443c8457bae868902c5a0cdfd": {
          "model_module": "@jupyter-widgets/controls",
          "model_name": "DescriptionStyleModel",
          "model_module_version": "1.5.0",
          "state": {
            "_model_module": "@jupyter-widgets/controls",
            "_model_module_version": "1.5.0",
            "_model_name": "DescriptionStyleModel",
            "_view_count": null,
            "_view_module": "@jupyter-widgets/base",
            "_view_module_version": "1.2.0",
            "_view_name": "StyleView",
            "description_width": ""
          }
        },
        "6073ecc2e27947928f60f9993f961545": {
          "model_module": "@jupyter-widgets/controls",
          "model_name": "HBoxModel",
          "model_module_version": "1.5.0",
          "state": {
            "_dom_classes": [],
            "_model_module": "@jupyter-widgets/controls",
            "_model_module_version": "1.5.0",
            "_model_name": "HBoxModel",
            "_view_count": null,
            "_view_module": "@jupyter-widgets/controls",
            "_view_module_version": "1.5.0",
            "_view_name": "HBoxView",
            "box_style": "",
            "children": [
              "IPY_MODEL_30f5a761affb4545a09fb16f1df31428",
              "IPY_MODEL_360990d9e1bf4388a598c6e766db163a",
              "IPY_MODEL_9f4f2bdfa3b74d76850f5b64d3ae1bfd"
            ],
            "layout": "IPY_MODEL_afef5a72b0974b6f9d14d5bc4a6f4ff9"
          }
        },
        "30f5a761affb4545a09fb16f1df31428": {
          "model_module": "@jupyter-widgets/controls",
          "model_name": "HTMLModel",
          "model_module_version": "1.5.0",
          "state": {
            "_dom_classes": [],
            "_model_module": "@jupyter-widgets/controls",
            "_model_module_version": "1.5.0",
            "_model_name": "HTMLModel",
            "_view_count": null,
            "_view_module": "@jupyter-widgets/controls",
            "_view_module_version": "1.5.0",
            "_view_name": "HTMLView",
            "description": "",
            "description_tooltip": null,
            "layout": "IPY_MODEL_00e1966288754b7aa6ed80d221c895ce",
            "placeholder": "​",
            "style": "IPY_MODEL_c0c4bc44db73485c839e3dc74570aa95",
            "value": "model.safetensors: 100%"
          }
        },
        "360990d9e1bf4388a598c6e766db163a": {
          "model_module": "@jupyter-widgets/controls",
          "model_name": "FloatProgressModel",
          "model_module_version": "1.5.0",
          "state": {
            "_dom_classes": [],
            "_model_module": "@jupyter-widgets/controls",
            "_model_module_version": "1.5.0",
            "_model_name": "FloatProgressModel",
            "_view_count": null,
            "_view_module": "@jupyter-widgets/controls",
            "_view_module_version": "1.5.0",
            "_view_name": "ProgressView",
            "bar_style": "success",
            "description": "",
            "description_tooltip": null,
            "layout": "IPY_MODEL_34484fba239b46d68f8a49d50c0b80d5",
            "max": 440449768,
            "min": 0,
            "orientation": "horizontal",
            "style": "IPY_MODEL_483f836b12ec424fa5c27a8ccc2e4053",
            "value": 440449768
          }
        },
        "9f4f2bdfa3b74d76850f5b64d3ae1bfd": {
          "model_module": "@jupyter-widgets/controls",
          "model_name": "HTMLModel",
          "model_module_version": "1.5.0",
          "state": {
            "_dom_classes": [],
            "_model_module": "@jupyter-widgets/controls",
            "_model_module_version": "1.5.0",
            "_model_name": "HTMLModel",
            "_view_count": null,
            "_view_module": "@jupyter-widgets/controls",
            "_view_module_version": "1.5.0",
            "_view_name": "HTMLView",
            "description": "",
            "description_tooltip": null,
            "layout": "IPY_MODEL_15d3c37535574c8dbc22e1d8771b16fa",
            "placeholder": "​",
            "style": "IPY_MODEL_4e6b540ea50047b886bbda31b62cd5b9",
            "value": " 440M/440M [00:01&lt;00:00, 253MB/s]"
          }
        },
        "afef5a72b0974b6f9d14d5bc4a6f4ff9": {
          "model_module": "@jupyter-widgets/base",
          "model_name": "LayoutModel",
          "model_module_version": "1.2.0",
          "state": {
            "_model_module": "@jupyter-widgets/base",
            "_model_module_version": "1.2.0",
            "_model_name": "LayoutModel",
            "_view_count": null,
            "_view_module": "@jupyter-widgets/base",
            "_view_module_version": "1.2.0",
            "_view_name": "LayoutView",
            "align_content": null,
            "align_items": null,
            "align_self": null,
            "border": null,
            "bottom": null,
            "display": null,
            "flex": null,
            "flex_flow": null,
            "grid_area": null,
            "grid_auto_columns": null,
            "grid_auto_flow": null,
            "grid_auto_rows": null,
            "grid_column": null,
            "grid_gap": null,
            "grid_row": null,
            "grid_template_areas": null,
            "grid_template_columns": null,
            "grid_template_rows": null,
            "height": null,
            "justify_content": null,
            "justify_items": null,
            "left": null,
            "margin": null,
            "max_height": null,
            "max_width": null,
            "min_height": null,
            "min_width": null,
            "object_fit": null,
            "object_position": null,
            "order": null,
            "overflow": null,
            "overflow_x": null,
            "overflow_y": null,
            "padding": null,
            "right": null,
            "top": null,
            "visibility": null,
            "width": null
          }
        },
        "00e1966288754b7aa6ed80d221c895ce": {
          "model_module": "@jupyter-widgets/base",
          "model_name": "LayoutModel",
          "model_module_version": "1.2.0",
          "state": {
            "_model_module": "@jupyter-widgets/base",
            "_model_module_version": "1.2.0",
            "_model_name": "LayoutModel",
            "_view_count": null,
            "_view_module": "@jupyter-widgets/base",
            "_view_module_version": "1.2.0",
            "_view_name": "LayoutView",
            "align_content": null,
            "align_items": null,
            "align_self": null,
            "border": null,
            "bottom": null,
            "display": null,
            "flex": null,
            "flex_flow": null,
            "grid_area": null,
            "grid_auto_columns": null,
            "grid_auto_flow": null,
            "grid_auto_rows": null,
            "grid_column": null,
            "grid_gap": null,
            "grid_row": null,
            "grid_template_areas": null,
            "grid_template_columns": null,
            "grid_template_rows": null,
            "height": null,
            "justify_content": null,
            "justify_items": null,
            "left": null,
            "margin": null,
            "max_height": null,
            "max_width": null,
            "min_height": null,
            "min_width": null,
            "object_fit": null,
            "object_position": null,
            "order": null,
            "overflow": null,
            "overflow_x": null,
            "overflow_y": null,
            "padding": null,
            "right": null,
            "top": null,
            "visibility": null,
            "width": null
          }
        },
        "c0c4bc44db73485c839e3dc74570aa95": {
          "model_module": "@jupyter-widgets/controls",
          "model_name": "DescriptionStyleModel",
          "model_module_version": "1.5.0",
          "state": {
            "_model_module": "@jupyter-widgets/controls",
            "_model_module_version": "1.5.0",
            "_model_name": "DescriptionStyleModel",
            "_view_count": null,
            "_view_module": "@jupyter-widgets/base",
            "_view_module_version": "1.2.0",
            "_view_name": "StyleView",
            "description_width": ""
          }
        },
        "34484fba239b46d68f8a49d50c0b80d5": {
          "model_module": "@jupyter-widgets/base",
          "model_name": "LayoutModel",
          "model_module_version": "1.2.0",
          "state": {
            "_model_module": "@jupyter-widgets/base",
            "_model_module_version": "1.2.0",
            "_model_name": "LayoutModel",
            "_view_count": null,
            "_view_module": "@jupyter-widgets/base",
            "_view_module_version": "1.2.0",
            "_view_name": "LayoutView",
            "align_content": null,
            "align_items": null,
            "align_self": null,
            "border": null,
            "bottom": null,
            "display": null,
            "flex": null,
            "flex_flow": null,
            "grid_area": null,
            "grid_auto_columns": null,
            "grid_auto_flow": null,
            "grid_auto_rows": null,
            "grid_column": null,
            "grid_gap": null,
            "grid_row": null,
            "grid_template_areas": null,
            "grid_template_columns": null,
            "grid_template_rows": null,
            "height": null,
            "justify_content": null,
            "justify_items": null,
            "left": null,
            "margin": null,
            "max_height": null,
            "max_width": null,
            "min_height": null,
            "min_width": null,
            "object_fit": null,
            "object_position": null,
            "order": null,
            "overflow": null,
            "overflow_x": null,
            "overflow_y": null,
            "padding": null,
            "right": null,
            "top": null,
            "visibility": null,
            "width": null
          }
        },
        "483f836b12ec424fa5c27a8ccc2e4053": {
          "model_module": "@jupyter-widgets/controls",
          "model_name": "ProgressStyleModel",
          "model_module_version": "1.5.0",
          "state": {
            "_model_module": "@jupyter-widgets/controls",
            "_model_module_version": "1.5.0",
            "_model_name": "ProgressStyleModel",
            "_view_count": null,
            "_view_module": "@jupyter-widgets/base",
            "_view_module_version": "1.2.0",
            "_view_name": "StyleView",
            "bar_color": null,
            "description_width": ""
          }
        },
        "15d3c37535574c8dbc22e1d8771b16fa": {
          "model_module": "@jupyter-widgets/base",
          "model_name": "LayoutModel",
          "model_module_version": "1.2.0",
          "state": {
            "_model_module": "@jupyter-widgets/base",
            "_model_module_version": "1.2.0",
            "_model_name": "LayoutModel",
            "_view_count": null,
            "_view_module": "@jupyter-widgets/base",
            "_view_module_version": "1.2.0",
            "_view_name": "LayoutView",
            "align_content": null,
            "align_items": null,
            "align_self": null,
            "border": null,
            "bottom": null,
            "display": null,
            "flex": null,
            "flex_flow": null,
            "grid_area": null,
            "grid_auto_columns": null,
            "grid_auto_flow": null,
            "grid_auto_rows": null,
            "grid_column": null,
            "grid_gap": null,
            "grid_row": null,
            "grid_template_areas": null,
            "grid_template_columns": null,
            "grid_template_rows": null,
            "height": null,
            "justify_content": null,
            "justify_items": null,
            "left": null,
            "margin": null,
            "max_height": null,
            "max_width": null,
            "min_height": null,
            "min_width": null,
            "object_fit": null,
            "object_position": null,
            "order": null,
            "overflow": null,
            "overflow_x": null,
            "overflow_y": null,
            "padding": null,
            "right": null,
            "top": null,
            "visibility": null,
            "width": null
          }
        },
        "4e6b540ea50047b886bbda31b62cd5b9": {
          "model_module": "@jupyter-widgets/controls",
          "model_name": "DescriptionStyleModel",
          "model_module_version": "1.5.0",
          "state": {
            "_model_module": "@jupyter-widgets/controls",
            "_model_module_version": "1.5.0",
            "_model_name": "DescriptionStyleModel",
            "_view_count": null,
            "_view_module": "@jupyter-widgets/base",
            "_view_module_version": "1.2.0",
            "_view_name": "StyleView",
            "description_width": ""
          }
        }
      }
    }
  },
  "nbformat": 4,
  "nbformat_minor": 0
}